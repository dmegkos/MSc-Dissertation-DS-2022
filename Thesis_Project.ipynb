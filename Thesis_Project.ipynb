{
  "cells": [
    {
      "cell_type": "markdown",
      "metadata": {
        "id": "QDw9rlM_40e0"
      },
      "source": [
        "## Import the libraries"
      ]
    },
    {
      "cell_type": "code",
      "execution_count": 1,
      "metadata": {
        "id": "7-qU6Fqi40e2"
      },
      "outputs": [],
      "source": [
        "# For data handling and EDA\n",
        "import pandas as pd\n",
        "import numpy as np\n",
        "# For Visualisation\n",
        "import matplotlib.pyplot as plt\n",
        "from wordcloud import WordCloud\n",
        "from wordcloud import STOPWORDS\n",
        "# For NLP and ML\n",
        "#import torch\n",
        "from sklearn.feature_extraction.text import CountVectorizer\n",
        "from sklearn.model_selection import train_test_split\n",
        "from sklearn.metrics import confusion_matrix,ConfusionMatrixDisplay, f1_score\n",
        "from sklearn.svm import LinearSVC\n",
        "#import nltk\n",
        "import spacy\n",
        "import keras\n",
        "from keras.preprocessing.text import Tokenizer"
      ]
    },
    {
      "cell_type": "markdown",
      "source": [
        "#### Mounting Google Drive"
      ],
      "metadata": {
        "id": "k_ZwCvob49Cx"
      }
    },
    {
      "cell_type": "code",
      "source": [
        "# Load the Drive helper and mount\n",
        "from google.colab import drive\n",
        "\n",
        "# This will prompt for authorization.\n",
        "drive.mount('/content/drive')\n",
        "\n",
        "%cd /content/drive/MyDrive/Colab_Notebooks\n",
        "%ls /content/drive/MyDrive/Colab_Notebooks"
      ],
      "metadata": {
        "colab": {
          "base_uri": "https://localhost:8080/"
        },
        "id": "jgzvt4tg48lX",
        "outputId": "5f4bb744-6516-4772-d2d6-508714c43fd7"
      },
      "execution_count": 2,
      "outputs": [
        {
          "output_type": "stream",
          "name": "stdout",
          "text": [
            "Mounted at /content/drive\n",
            "/content/drive/MyDrive/Colab_Notebooks\n",
            "'Copy of cnn_sentence.ipynb'   \u001b[0m\u001b[01;34mhate-speech-dataset-master\u001b[0m/\n",
            " \u001b[01;34mdata\u001b[0m/                         Thesis_Project.ipynb\n"
          ]
        }
      ]
    },
    {
      "cell_type": "markdown",
      "metadata": {
        "id": "tiN4xEl040e3"
      },
      "source": [
        "## Using the whole dataset"
      ]
    },
    {
      "cell_type": "markdown",
      "metadata": {
        "id": "KxNLBnYn40e3"
      },
      "source": [
        "### Load the whole dataset to Pandas"
      ]
    },
    {
      "cell_type": "code",
      "execution_count": null,
      "metadata": {
        "id": "mj6t2DiB40e3"
      },
      "outputs": [],
      "source": [
        "# Load the annotations metadata csv to get label info\n",
        "annot = pd.read_csv(\"hate-speech-dataset-master/annotations_metadata.csv\")\n",
        "# Keep only file id and label\n",
        "annot.drop(columns=['user_id','subforum_id','num_contexts'],inplace=True)\n",
        "# Add new empty column to insert the message\n",
        "annot['message']=''\n",
        "# Loop through all lines\n",
        "for i in range(len(annot['file_id'])):\n",
        "    # Get current filename\n",
        "    filename = annot['file_id'][i]\n",
        "    # Open the file and read the contents\n",
        "    with open('hate-speech-dataset-master/all_files/' +filename +'.txt') as f:\n",
        "        contents= f.read()\n",
        "    f.close()\n",
        "    # Add contents to the message column\n",
        "    annot['message'][i]=contents\n",
        "# Drop file id\n",
        "annot.drop(columns=['file_id'],inplace=True)"
      ]
    },
    {
      "cell_type": "markdown",
      "metadata": {
        "id": "e5bMcBUB40e3"
      },
      "source": [
        "### EDA and Pre-Processing"
      ]
    },
    {
      "cell_type": "code",
      "execution_count": null,
      "metadata": {
        "id": "45OufqKY40e4"
      },
      "outputs": [],
      "source": [
        "# DataFrame information\n",
        "annot.info()"
      ]
    },
    {
      "cell_type": "code",
      "execution_count": null,
      "metadata": {
        "id": "cr78ZthG40e4"
      },
      "outputs": [],
      "source": [
        "# Check the classes and their value counts\n",
        "annot['label'].value_counts()"
      ]
    },
    {
      "cell_type": "markdown",
      "metadata": {
        "id": "KtLId1x640e5"
      },
      "source": [
        "Based on the original paper, there are a total of 10944 sentences, 9507 of them are classified as no hate speech, 1196 are classified as hate speech, 168 are related to hate speech but depends on content and 73 are non English sentences, classified as idk/skip. For the purpose of this research, relation and idk/skip classes will be dropped completely in order to make the problem a binary classification."
      ]
    },
    {
      "cell_type": "code",
      "execution_count": null,
      "metadata": {
        "id": "N1YRIgfz40e5"
      },
      "outputs": [],
      "source": [
        "# Keep sentences classified only as noHate and hate\n",
        "cleanPosts = annot[(annot['label'] != 'relation') & (annot['label'] != 'idk/skip')]\n",
        "# Reset index\n",
        "cleanPosts=cleanPosts.reset_index(drop=True)"
      ]
    },
    {
      "cell_type": "code",
      "execution_count": null,
      "metadata": {
        "id": "_fAOhz8_40e5"
      },
      "outputs": [],
      "source": [
        "# First 5 data points\n",
        "cleanPosts.head(5)"
      ]
    },
    {
      "cell_type": "code",
      "execution_count": null,
      "metadata": {
        "id": "w6fPtKjv40e5"
      },
      "outputs": [],
      "source": [
        "# Last 5 data points\n",
        "cleanPosts.tail(5)"
      ]
    },
    {
      "cell_type": "code",
      "execution_count": null,
      "metadata": {
        "id": "qBjiUr-W40e6"
      },
      "outputs": [],
      "source": [
        "# Update STOPWORDS\n",
        "stop_words = STOPWORDS.update([\"https\", \"S\"])"
      ]
    },
    {
      "cell_type": "code",
      "execution_count": null,
      "metadata": {
        "id": "FGTO18nI40e6"
      },
      "outputs": [],
      "source": [
        "# WordCloud for posts classified as hate\n",
        "wc_hate = WordCloud(stopwords=STOPWORDS, background_color='white').generate(' '.join(cleanPosts['message'][cleanPosts['label']=='hate']))\n",
        "# Generate plot\n",
        "plt.imshow(wc_hate)\n",
        "plt.axis(\"off\")\n",
        "plt.show()"
      ]
    },
    {
      "cell_type": "code",
      "execution_count": null,
      "metadata": {
        "id": "y7MTTphl40e6"
      },
      "outputs": [],
      "source": [
        "# WordCloud for posts classified as noHate\n",
        "wc_noHate = WordCloud(stopwords=STOPWORDS, background_color='white').generate(' '.join(cleanPosts['message'][cleanPosts['label']=='noHate']))\n",
        "# Generate plot\n",
        "plt.imshow(wc_noHate)\n",
        "plt.axis(\"off\")\n",
        "plt.show()"
      ]
    },
    {
      "cell_type": "markdown",
      "metadata": {
        "id": "eBq0yYEu40e6"
      },
      "source": [
        "### Recreating Paper Results"
      ]
    },
    {
      "cell_type": "markdown",
      "metadata": {
        "id": "SC8hmBF_40e6"
      },
      "source": [
        "#### Pre-Process text with SpaCy"
      ]
    },
    {
      "cell_type": "markdown",
      "metadata": {
        "id": "vpvfk8PR40e6"
      },
      "source": [
        "Before I proceed with the Bag of Words model, I need to pre-process the text (remove punctuations, stop words, lemmatize) in order to reduce the vocabulary size. I will use SpaCy for text pre-processing."
      ]
    },
    {
      "cell_type": "code",
      "execution_count": null,
      "metadata": {
        "id": "-Z3ooGEx40e7"
      },
      "outputs": [],
      "source": [
        "# Get English words from NLTK\n",
        "#nltk.download('words')\n",
        "#words = set(nltk.corpus.words.words())\n",
        "# Instantiate SpaCy's English module\n",
        "nlp = spacy.load('en_core_web_sm')\n",
        "# Remove default stop words and lemmatize each sentence\n",
        "cleanPosts['clean_message'] = cleanPosts.message.apply(\n",
        "    lambda text: \n",
        "        \" \".join(\n",
        "            token.lemma_.lower() for token in nlp(text)\n",
        "                if token.lemma_.lower() not in nlp.Defaults.stop_words and token.is_alpha\n",
        "                 #and token.lemma_.lower() in words\n",
        "        )\n",
        ")\n",
        "# Drop old sentences\n",
        "cleanPosts.drop(columns='message', inplace=True)"
      ]
    },
    {
      "cell_type": "code",
      "execution_count": null,
      "metadata": {
        "id": "oB9atuOD40e7"
      },
      "outputs": [],
      "source": [
        "# First 5 data points\n",
        "cleanPosts.head(5)"
      ]
    },
    {
      "cell_type": "code",
      "execution_count": null,
      "metadata": {
        "id": "NvQmf9Lu40e7"
      },
      "outputs": [],
      "source": [
        "# Last 5 data points\n",
        "cleanPosts.tail(5)"
      ]
    },
    {
      "cell_type": "code",
      "execution_count": null,
      "metadata": {
        "id": "7Je8SVk440e7"
      },
      "outputs": [],
      "source": [
        "# Check for empty strings and remove\n",
        "cleanPosts[cleanPosts['clean_message'] == ''].count()"
      ]
    },
    {
      "cell_type": "markdown",
      "metadata": {
        "id": "yqgIF59T40e7"
      },
      "source": [
        "There are 233 empty entries after lemmatization and removing stop words, which I am going to remove."
      ]
    },
    {
      "cell_type": "code",
      "execution_count": null,
      "metadata": {
        "id": "dCI2dQj040e7"
      },
      "outputs": [],
      "source": [
        "# Drop rows where 'clean_message' is an empty string\n",
        "# Get index\n",
        "idx = cleanPosts[cleanPosts['clean_message'] == ''].index\n",
        "# Drop rows based on index\n",
        "cleanPosts.drop(index=idx, inplace=True)"
      ]
    },
    {
      "cell_type": "code",
      "execution_count": null,
      "metadata": {
        "id": "p0DOLrGy40e7"
      },
      "outputs": [],
      "source": [
        "# WordCloud for cleaned posts classified as hate\n",
        "wc_hate_clean = WordCloud(stopwords=STOPWORDS, background_color='white').generate(' '.join(cleanPosts['clean_message'][cleanPosts['label']=='hate']))\n",
        "# Generate plot\n",
        "plt.imshow(wc_hate_clean)\n",
        "plt.axis(\"off\")\n",
        "plt.show()"
      ]
    },
    {
      "cell_type": "code",
      "execution_count": null,
      "metadata": {
        "id": "_Ltf_mKT40e7"
      },
      "outputs": [],
      "source": [
        "# WordCloud for cleaned posts classified as noHate\n",
        "wc_noHate_clean = WordCloud(stopwords=STOPWORDS, background_color='white').generate(' '.join(cleanPosts['clean_message'][cleanPosts['label']=='noHate']))\n",
        "# Generate plot\n",
        "plt.imshow(wc_noHate_clean)\n",
        "plt.axis(\"off\")\n",
        "plt.show()"
      ]
    },
    {
      "cell_type": "code",
      "execution_count": null,
      "metadata": {
        "id": "d_bHx6vV40e7"
      },
      "outputs": [],
      "source": [
        "# Plot the class distribution\n",
        "plot = cleanPosts.label.value_counts().plot(kind='pie',autopct='%1.2f%%')"
      ]
    },
    {
      "cell_type": "markdown",
      "metadata": {
        "id": "kin0Qi_z40e8"
      },
      "source": [
        "#### Bag-of-Words Vectors"
      ]
    },
    {
      "cell_type": "code",
      "execution_count": null,
      "metadata": {
        "id": "2a64-MrT40e8"
      },
      "outputs": [],
      "source": [
        "# Instantiate Count Vectorizer\n",
        "vectorizer = CountVectorizer()\n",
        "# Vectorize\n",
        "X = vectorizer.fit_transform(cleanPosts.clean_message.to_list())\n",
        "X_bow = pd.DataFrame(X.toarray(),columns=vectorizer.get_feature_names_out())"
      ]
    },
    {
      "cell_type": "markdown",
      "metadata": {
        "id": "wkB9rICD40e8"
      },
      "source": [
        "#### Split Dataset for SVM Model"
      ]
    },
    {
      "cell_type": "code",
      "execution_count": null,
      "metadata": {
        "id": "Q_t2BqqM40e8"
      },
      "outputs": [],
      "source": [
        "# Split dataset for training and testing\n",
        "X_train, X_test, y_train, y_test = train_test_split(X_bow, cleanPosts.label, test_size=0.25, random_state=42, stratify=cleanPosts.label)"
      ]
    },
    {
      "cell_type": "markdown",
      "metadata": {
        "id": "dnHJ-O7p40e8"
      },
      "source": [
        "#### Classify text using SVM Model"
      ]
    },
    {
      "cell_type": "markdown",
      "metadata": {
        "id": "gPwRCx6g40e8"
      },
      "source": [
        "Train the SVM Model"
      ]
    },
    {
      "cell_type": "code",
      "execution_count": null,
      "metadata": {
        "id": "SztHE5eO40e8"
      },
      "outputs": [],
      "source": [
        "# Instatiate SVC\n",
        "svm = LinearSVC()\n",
        "# Fit training data\n",
        "svm.fit(X_train, y_train)\n",
        "# Get prediction on test data\n",
        "pred = svm.predict(X_test)"
      ]
    },
    {
      "cell_type": "markdown",
      "metadata": {
        "id": "mvT0npQu40e8"
      },
      "source": [
        "#### Get Accuracy and Confusion Matrix"
      ]
    },
    {
      "cell_type": "code",
      "execution_count": null,
      "metadata": {
        "id": "TxaJ9q9y40e8"
      },
      "outputs": [],
      "source": [
        "# Get the accuracy\n",
        "print('Test Accuracy: '+str(svm.score(X_test, y_test)))\n",
        "# Print the F1 Score\n",
        "print('F1 Score: '+str(f1_score(y_test, pred, pos_label='hate')))\n",
        "# Create confusion matrix\n",
        "cm = confusion_matrix(y_test, pred, labels=svm.classes_)\n",
        "disp = ConfusionMatrixDisplay(confusion_matrix=cm, display_labels=svm.classes_)\n",
        "disp.plot()\n",
        "plt.show()"
      ]
    },
    {
      "cell_type": "markdown",
      "metadata": {
        "id": "rE3s9D1T40e8"
      },
      "source": [
        "Using all the available txt files with text pre-processing on a SVM Model returned an accuracy of 0.87 but an F1 Score of 0.48. This is because there is a big class inbalance in the training data. The SVM model does a really good job at classifying correctly the noHate sentences but handles poorly the hate sentences since more than half of them are missclassified."
      ]
    },
    {
      "cell_type": "markdown",
      "metadata": {
        "id": "KuDVBpvR40e8"
      },
      "source": [
        "## Using the sampled train and test dataset"
      ]
    },
    {
      "cell_type": "markdown",
      "metadata": {
        "id": "Jc7q_iSk40e8"
      },
      "source": [
        "### Load the provided sampled_train and sampled_test dataset from txt files."
      ]
    },
    {
      "cell_type": "code",
      "execution_count": null,
      "metadata": {
        "id": "8kPLZnIx40e8"
      },
      "outputs": [],
      "source": [
        "# Counter for missing text files\n",
        "counter = 0\n",
        "# Sampled Training Data\n",
        "# Load the annotations metadata csv to get label info\n",
        "annot_tr = pd.read_csv(\"hate-speech-dataset-master/annotations_metadata.csv\")\n",
        "# Keep only file id and label\n",
        "annot_tr.drop(columns=['user_id','subforum_id','num_contexts'],inplace=True)\n",
        "# Add new empty column to insert the message\n",
        "annot_tr['message']=''\n",
        "# Loop through all lines\n",
        "for i in range(len(annot_tr['file_id'])):\n",
        "    # Get current filename\n",
        "    filename = annot_tr['file_id'][i]\n",
        "    try:\n",
        "        # Open the file and read the contents\n",
        "        with open('hate-speech-dataset-master/sampled_train/' +filename +'.txt') as f:\n",
        "            contents= f.read()\n",
        "        f.close()\n",
        "        # Add contents to the message column\n",
        "        annot_tr['message'][i]=contents\n",
        "    except:\n",
        "        counter += 1\n",
        "# Drop file id\n",
        "annot_tr.drop(columns=['file_id'],inplace=True)\n",
        "\n",
        "# Sampled Test Data\n",
        "# Load the annotations metadata csv to get label info\n",
        "annot_ts = pd.read_csv(\"hate-speech-dataset-master/annotations_metadata.csv\")\n",
        "# Keep only file id and label\n",
        "annot_ts.drop(columns=['user_id','subforum_id','num_contexts'],inplace=True)\n",
        "# Add new empty column to insert the message\n",
        "annot_ts['message']=''\n",
        "# Loop through all lines\n",
        "for i in range(len(annot_ts['file_id'])):\n",
        "    # Get current filename\n",
        "    filename = annot_ts['file_id'][i]\n",
        "    try:\n",
        "        # Open the file and read the contents\n",
        "        with open('hate-speech-dataset-master/sampled_test/' +filename +'.txt') as f:\n",
        "            contents= f.read()\n",
        "        f.close()\n",
        "        # Add contents to the message column\n",
        "        annot_ts['message'][i]=contents\n",
        "    except:\n",
        "        counter += 1\n",
        "# Drop file id\n",
        "annot_ts.drop(columns=['file_id'],inplace=True)"
      ]
    },
    {
      "cell_type": "markdown",
      "metadata": {
        "id": "PM_GrSAg40e8"
      },
      "source": [
        "### EDA and Pre-Processing"
      ]
    },
    {
      "cell_type": "code",
      "execution_count": 11,
      "metadata": {
        "id": "_3d9yhL_40e8"
      },
      "outputs": [],
      "source": [
        "# Keep sentences classified only as noHate and hate - Train Sample\n",
        "cleanPosts_tr = annot_tr[(annot_tr['label'] != 'relation') & (annot_tr['label'] != 'idk/skip')]\n",
        "# Reset index\n",
        "cleanPosts_tr = cleanPosts_tr.reset_index(drop=True)\n",
        "\n",
        "# Keep sentences classified only as noHate and hate - Test Sample\n",
        "cleanPosts_ts = annot_ts[(annot_ts['label'] != 'relation') & (annot_ts['label'] != 'idk/skip')]\n",
        "# Reset index\n",
        "cleanPosts_ts = cleanPosts_ts.reset_index(drop=True)"
      ]
    },
    {
      "cell_type": "markdown",
      "metadata": {
        "id": "cIfwWY6X40e8"
      },
      "source": [
        "#### WordCloud for Posts Classified as Hate"
      ]
    },
    {
      "cell_type": "code",
      "execution_count": 12,
      "metadata": {
        "id": "Epmmq4C040e9"
      },
      "outputs": [],
      "source": [
        "# Update STOPWORDS\n",
        "stop_words = STOPWORDS.update([\"https\", \"S\"])"
      ]
    },
    {
      "cell_type": "markdown",
      "metadata": {
        "id": "s5wyiGOh40e9"
      },
      "source": [
        "Train Sample"
      ]
    },
    {
      "cell_type": "code",
      "execution_count": 13,
      "metadata": {
        "colab": {
          "base_uri": "https://localhost:8080/",
          "height": 258
        },
        "id": "XHtlL62l40e9",
        "outputId": "da1a1300-279b-464a-cffd-40de068af2c5"
      },
      "outputs": [
        {
          "output_type": "error",
          "ename": "TypeError",
          "evalue": "ignored",
          "traceback": [
            "\u001b[0;31m---------------------------------------------------------------------------\u001b[0m",
            "\u001b[0;31mTypeError\u001b[0m                                 Traceback (most recent call last)",
            "\u001b[0;32m<ipython-input-13-8b834b5eab7b>\u001b[0m in \u001b[0;36m<module>\u001b[0;34m()\u001b[0m\n\u001b[1;32m      1\u001b[0m \u001b[0;31m# WordCloud for posts classified as hate - Train Sample\u001b[0m\u001b[0;34m\u001b[0m\u001b[0;34m\u001b[0m\u001b[0;34m\u001b[0m\u001b[0m\n\u001b[0;32m----> 2\u001b[0;31m \u001b[0mwc_hate_tr\u001b[0m \u001b[0;34m=\u001b[0m \u001b[0mWordCloud\u001b[0m\u001b[0;34m(\u001b[0m\u001b[0mstopwords\u001b[0m\u001b[0;34m=\u001b[0m\u001b[0mSTOPWORDS\u001b[0m\u001b[0;34m,\u001b[0m \u001b[0mbackground_color\u001b[0m\u001b[0;34m=\u001b[0m\u001b[0;34m'white'\u001b[0m\u001b[0;34m)\u001b[0m\u001b[0;34m.\u001b[0m\u001b[0mgenerate\u001b[0m\u001b[0;34m(\u001b[0m\u001b[0;34m' '\u001b[0m\u001b[0;34m.\u001b[0m\u001b[0mjoin\u001b[0m\u001b[0;34m(\u001b[0m\u001b[0mcleanPosts_tr\u001b[0m\u001b[0;34m[\u001b[0m\u001b[0;34m'message'\u001b[0m\u001b[0;34m]\u001b[0m\u001b[0;34m[\u001b[0m\u001b[0mcleanPosts_tr\u001b[0m\u001b[0;34m[\u001b[0m\u001b[0;34m'label'\u001b[0m\u001b[0;34m]\u001b[0m\u001b[0;34m==\u001b[0m\u001b[0;34m'hate'\u001b[0m\u001b[0;34m]\u001b[0m\u001b[0;34m)\u001b[0m\u001b[0;34m)\u001b[0m\u001b[0;34m\u001b[0m\u001b[0;34m\u001b[0m\u001b[0m\n\u001b[0m\u001b[1;32m      3\u001b[0m \u001b[0;31m# Generate plot\u001b[0m\u001b[0;34m\u001b[0m\u001b[0;34m\u001b[0m\u001b[0;34m\u001b[0m\u001b[0m\n\u001b[1;32m      4\u001b[0m \u001b[0mplt\u001b[0m\u001b[0;34m.\u001b[0m\u001b[0mimshow\u001b[0m\u001b[0;34m(\u001b[0m\u001b[0mwc_hate_tr\u001b[0m\u001b[0;34m)\u001b[0m\u001b[0;34m\u001b[0m\u001b[0;34m\u001b[0m\u001b[0m\n\u001b[1;32m      5\u001b[0m \u001b[0mplt\u001b[0m\u001b[0;34m.\u001b[0m\u001b[0maxis\u001b[0m\u001b[0;34m(\u001b[0m\u001b[0;34m\"off\"\u001b[0m\u001b[0;34m)\u001b[0m\u001b[0;34m\u001b[0m\u001b[0;34m\u001b[0m\u001b[0m\n",
            "\u001b[0;31mTypeError\u001b[0m: sequence item 2: expected str instance, float found"
          ]
        }
      ],
      "source": [
        "# WordCloud for posts classified as hate - Train Sample\n",
        "wc_hate_tr = WordCloud(stopwords=STOPWORDS, background_color='white').generate(' '.join(cleanPosts_tr['message'][cleanPosts_tr['label']=='hate']))\n",
        "# Generate plot\n",
        "plt.imshow(wc_hate_tr)\n",
        "plt.axis(\"off\")\n",
        "plt.show()"
      ]
    },
    {
      "cell_type": "markdown",
      "metadata": {
        "id": "XdWfmqeP40e9"
      },
      "source": [
        "Test Sample"
      ]
    },
    {
      "cell_type": "code",
      "execution_count": null,
      "metadata": {
        "id": "rWA2JAeC40e9"
      },
      "outputs": [],
      "source": [
        "# WordCloud for posts classified as hate - Test Sample\n",
        "wc_hate_ts = WordCloud(stopwords=STOPWORDS, background_color='white').generate(' '.join(cleanPosts_ts['message'][cleanPosts_ts['label']=='hate']))\n",
        "# Generate plot\n",
        "plt.imshow(wc_hate_ts)\n",
        "plt.axis(\"off\")\n",
        "plt.show()"
      ]
    },
    {
      "cell_type": "markdown",
      "metadata": {
        "id": "yYEKfeqo40e9"
      },
      "source": [
        "#### WordCloud for Posts Classified as noHate"
      ]
    },
    {
      "cell_type": "markdown",
      "metadata": {
        "id": "2QVF3avu40e9"
      },
      "source": [
        "Train Sample"
      ]
    },
    {
      "cell_type": "code",
      "execution_count": null,
      "metadata": {
        "id": "jZnvCaiH40e9"
      },
      "outputs": [],
      "source": [
        "# WordCloud for posts classified as noHate - Train Sample\n",
        "wc_noHate_tr = WordCloud(stopwords=STOPWORDS, background_color='white').generate(' '.join(cleanPosts_tr['message'][cleanPosts_tr['label']=='noHate']))\n",
        "# Generate plot\n",
        "plt.imshow(wc_noHate_tr)\n",
        "plt.axis(\"off\")\n",
        "plt.show()"
      ]
    },
    {
      "cell_type": "markdown",
      "metadata": {
        "id": "pKwvXYQ-40e9"
      },
      "source": [
        "Test Sample"
      ]
    },
    {
      "cell_type": "code",
      "execution_count": null,
      "metadata": {
        "id": "-OcA3sIz40e9"
      },
      "outputs": [],
      "source": [
        "# WordCloud for posts classified as noHate - Test Sample\n",
        "wc_noHate_ts = WordCloud(stopwords=STOPWORDS, background_color='white').generate(' '.join(cleanPosts_ts['message'][cleanPosts_ts['label']=='noHate']))\n",
        "# Generate plot\n",
        "plt.imshow(wc_noHate_ts)\n",
        "plt.axis(\"off\")\n",
        "plt.show()"
      ]
    },
    {
      "cell_type": "markdown",
      "metadata": {
        "id": "X-sUs-bA40e9"
      },
      "source": [
        "### Recreating Paper Results"
      ]
    },
    {
      "cell_type": "markdown",
      "metadata": {
        "id": "yRdexdco40e9"
      },
      "source": [
        "#### Pre-Process text with SpaCy"
      ]
    },
    {
      "cell_type": "markdown",
      "metadata": {
        "id": "BX0RZNnh40e9"
      },
      "source": [
        "Train Sample"
      ]
    },
    {
      "cell_type": "code",
      "execution_count": 7,
      "metadata": {
        "colab": {
          "base_uri": "https://localhost:8080/",
          "height": 389
        },
        "id": "jJd6niuH40e9",
        "outputId": "3e8ba714-3234-47f2-afb7-ff21e9142bbc"
      },
      "outputs": [
        {
          "output_type": "error",
          "ename": "ValueError",
          "evalue": "ignored",
          "traceback": [
            "\u001b[0;31m---------------------------------------------------------------------------\u001b[0m",
            "\u001b[0;31mValueError\u001b[0m                                Traceback (most recent call last)",
            "\u001b[0;32m<ipython-input-7-6c8f177dbb55>\u001b[0m in \u001b[0;36m<module>\u001b[0;34m()\u001b[0m\n\u001b[1;32m      3\u001b[0m \u001b[0;31m# Remove default stop words and lemmatize each sentence\u001b[0m\u001b[0;34m\u001b[0m\u001b[0;34m\u001b[0m\u001b[0;34m\u001b[0m\u001b[0m\n\u001b[1;32m      4\u001b[0m cleanPosts_tr['clean_message'] = cleanPosts_tr.message.apply(\n\u001b[0;32m----> 5\u001b[0;31m     \u001b[0;32mlambda\u001b[0m \u001b[0mtext\u001b[0m\u001b[0;34m:\u001b[0m\u001b[0;34m\u001b[0m\u001b[0;34m\u001b[0m\u001b[0m\n\u001b[0m\u001b[1;32m      6\u001b[0m         \" \".join(\n\u001b[1;32m      7\u001b[0m             \u001b[0mtoken\u001b[0m\u001b[0;34m.\u001b[0m\u001b[0mlemma_\u001b[0m\u001b[0;34m.\u001b[0m\u001b[0mlower\u001b[0m\u001b[0;34m(\u001b[0m\u001b[0;34m)\u001b[0m \u001b[0;32mfor\u001b[0m \u001b[0mtoken\u001b[0m \u001b[0;32min\u001b[0m \u001b[0mnlp\u001b[0m\u001b[0;34m(\u001b[0m\u001b[0mtext\u001b[0m\u001b[0;34m)\u001b[0m\u001b[0;34m\u001b[0m\u001b[0;34m\u001b[0m\u001b[0m\n",
            "\u001b[0;32m/usr/local/lib/python3.7/dist-packages/pandas/core/series.py\u001b[0m in \u001b[0;36mapply\u001b[0;34m(self, func, convert_dtype, args, **kwargs)\u001b[0m\n\u001b[1;32m   4355\u001b[0m         \u001b[0mdtype\u001b[0m\u001b[0;34m:\u001b[0m \u001b[0mfloat64\u001b[0m\u001b[0;34m\u001b[0m\u001b[0;34m\u001b[0m\u001b[0m\n\u001b[1;32m   4356\u001b[0m         \"\"\"\n\u001b[0;32m-> 4357\u001b[0;31m         \u001b[0;32mreturn\u001b[0m \u001b[0mSeriesApply\u001b[0m\u001b[0;34m(\u001b[0m\u001b[0mself\u001b[0m\u001b[0;34m,\u001b[0m \u001b[0mfunc\u001b[0m\u001b[0;34m,\u001b[0m \u001b[0mconvert_dtype\u001b[0m\u001b[0;34m,\u001b[0m \u001b[0margs\u001b[0m\u001b[0;34m,\u001b[0m \u001b[0mkwargs\u001b[0m\u001b[0;34m)\u001b[0m\u001b[0;34m.\u001b[0m\u001b[0mapply\u001b[0m\u001b[0;34m(\u001b[0m\u001b[0;34m)\u001b[0m\u001b[0;34m\u001b[0m\u001b[0;34m\u001b[0m\u001b[0m\n\u001b[0m\u001b[1;32m   4358\u001b[0m \u001b[0;34m\u001b[0m\u001b[0m\n\u001b[1;32m   4359\u001b[0m     def _reduce(\n",
            "\u001b[0;32m/usr/local/lib/python3.7/dist-packages/pandas/core/apply.py\u001b[0m in \u001b[0;36mapply\u001b[0;34m(self)\u001b[0m\n\u001b[1;32m   1041\u001b[0m             \u001b[0;32mreturn\u001b[0m \u001b[0mself\u001b[0m\u001b[0;34m.\u001b[0m\u001b[0mapply_str\u001b[0m\u001b[0;34m(\u001b[0m\u001b[0;34m)\u001b[0m\u001b[0;34m\u001b[0m\u001b[0;34m\u001b[0m\u001b[0m\n\u001b[1;32m   1042\u001b[0m \u001b[0;34m\u001b[0m\u001b[0m\n\u001b[0;32m-> 1043\u001b[0;31m         \u001b[0;32mreturn\u001b[0m \u001b[0mself\u001b[0m\u001b[0;34m.\u001b[0m\u001b[0mapply_standard\u001b[0m\u001b[0;34m(\u001b[0m\u001b[0;34m)\u001b[0m\u001b[0;34m\u001b[0m\u001b[0;34m\u001b[0m\u001b[0m\n\u001b[0m\u001b[1;32m   1044\u001b[0m \u001b[0;34m\u001b[0m\u001b[0m\n\u001b[1;32m   1045\u001b[0m     \u001b[0;32mdef\u001b[0m \u001b[0magg\u001b[0m\u001b[0;34m(\u001b[0m\u001b[0mself\u001b[0m\u001b[0;34m)\u001b[0m\u001b[0;34m:\u001b[0m\u001b[0;34m\u001b[0m\u001b[0;34m\u001b[0m\u001b[0m\n",
            "\u001b[0;32m/usr/local/lib/python3.7/dist-packages/pandas/core/apply.py\u001b[0m in \u001b[0;36mapply_standard\u001b[0;34m(self)\u001b[0m\n\u001b[1;32m   1099\u001b[0m                     \u001b[0mvalues\u001b[0m\u001b[0;34m,\u001b[0m\u001b[0;34m\u001b[0m\u001b[0;34m\u001b[0m\u001b[0m\n\u001b[1;32m   1100\u001b[0m                     \u001b[0mf\u001b[0m\u001b[0;34m,\u001b[0m  \u001b[0;31m# type: ignore[arg-type]\u001b[0m\u001b[0;34m\u001b[0m\u001b[0;34m\u001b[0m\u001b[0m\n\u001b[0;32m-> 1101\u001b[0;31m                     \u001b[0mconvert\u001b[0m\u001b[0;34m=\u001b[0m\u001b[0mself\u001b[0m\u001b[0;34m.\u001b[0m\u001b[0mconvert_dtype\u001b[0m\u001b[0;34m,\u001b[0m\u001b[0;34m\u001b[0m\u001b[0;34m\u001b[0m\u001b[0m\n\u001b[0m\u001b[1;32m   1102\u001b[0m                 )\n\u001b[1;32m   1103\u001b[0m \u001b[0;34m\u001b[0m\u001b[0m\n",
            "\u001b[0;32m/usr/local/lib/python3.7/dist-packages/pandas/_libs/lib.pyx\u001b[0m in \u001b[0;36mpandas._libs.lib.map_infer\u001b[0;34m()\u001b[0m\n",
            "\u001b[0;32m<ipython-input-7-6c8f177dbb55>\u001b[0m in \u001b[0;36m<lambda>\u001b[0;34m(text)\u001b[0m\n\u001b[1;32m      5\u001b[0m     \u001b[0;32mlambda\u001b[0m \u001b[0mtext\u001b[0m\u001b[0;34m:\u001b[0m\u001b[0;34m\u001b[0m\u001b[0;34m\u001b[0m\u001b[0m\n\u001b[1;32m      6\u001b[0m         \" \".join(\n\u001b[0;32m----> 7\u001b[0;31m             \u001b[0mtoken\u001b[0m\u001b[0;34m.\u001b[0m\u001b[0mlemma_\u001b[0m\u001b[0;34m.\u001b[0m\u001b[0mlower\u001b[0m\u001b[0;34m(\u001b[0m\u001b[0;34m)\u001b[0m \u001b[0;32mfor\u001b[0m \u001b[0mtoken\u001b[0m \u001b[0;32min\u001b[0m \u001b[0mnlp\u001b[0m\u001b[0;34m(\u001b[0m\u001b[0mtext\u001b[0m\u001b[0;34m)\u001b[0m\u001b[0;34m\u001b[0m\u001b[0;34m\u001b[0m\u001b[0m\n\u001b[0m\u001b[1;32m      8\u001b[0m                 \u001b[0;32mif\u001b[0m \u001b[0mtoken\u001b[0m\u001b[0;34m.\u001b[0m\u001b[0mlemma_\u001b[0m\u001b[0;34m.\u001b[0m\u001b[0mlower\u001b[0m\u001b[0;34m(\u001b[0m\u001b[0;34m)\u001b[0m \u001b[0;32mnot\u001b[0m \u001b[0;32min\u001b[0m \u001b[0mnlp\u001b[0m\u001b[0;34m.\u001b[0m\u001b[0mDefaults\u001b[0m\u001b[0;34m.\u001b[0m\u001b[0mstop_words\u001b[0m \u001b[0;32mand\u001b[0m \u001b[0mtoken\u001b[0m\u001b[0;34m.\u001b[0m\u001b[0mis_alpha\u001b[0m\u001b[0;34m\u001b[0m\u001b[0;34m\u001b[0m\u001b[0m\n\u001b[1;32m      9\u001b[0m         )\n",
            "\u001b[0;32m/usr/local/lib/python3.7/dist-packages/spacy/language.py\u001b[0m in \u001b[0;36m__call__\u001b[0;34m(self, text, disable, component_cfg)\u001b[0m\n\u001b[1;32m   1006\u001b[0m         \u001b[0mDOCS\u001b[0m\u001b[0;34m:\u001b[0m \u001b[0mhttps\u001b[0m\u001b[0;34m:\u001b[0m\u001b[0;34m//\u001b[0m\u001b[0mspacy\u001b[0m\u001b[0;34m.\u001b[0m\u001b[0mio\u001b[0m\u001b[0;34m/\u001b[0m\u001b[0mapi\u001b[0m\u001b[0;34m/\u001b[0m\u001b[0mlanguage\u001b[0m\u001b[0;31m#call\u001b[0m\u001b[0;34m\u001b[0m\u001b[0;34m\u001b[0m\u001b[0m\n\u001b[1;32m   1007\u001b[0m         \"\"\"\n\u001b[0;32m-> 1008\u001b[0;31m         \u001b[0mdoc\u001b[0m \u001b[0;34m=\u001b[0m \u001b[0mself\u001b[0m\u001b[0;34m.\u001b[0m\u001b[0m_ensure_doc\u001b[0m\u001b[0;34m(\u001b[0m\u001b[0mtext\u001b[0m\u001b[0;34m)\u001b[0m\u001b[0;34m\u001b[0m\u001b[0;34m\u001b[0m\u001b[0m\n\u001b[0m\u001b[1;32m   1009\u001b[0m         \u001b[0;32mif\u001b[0m \u001b[0mcomponent_cfg\u001b[0m \u001b[0;32mis\u001b[0m \u001b[0;32mNone\u001b[0m\u001b[0;34m:\u001b[0m\u001b[0;34m\u001b[0m\u001b[0;34m\u001b[0m\u001b[0m\n\u001b[1;32m   1010\u001b[0m             \u001b[0mcomponent_cfg\u001b[0m \u001b[0;34m=\u001b[0m \u001b[0;34m{\u001b[0m\u001b[0;34m}\u001b[0m\u001b[0;34m\u001b[0m\u001b[0;34m\u001b[0m\u001b[0m\n",
            "\u001b[0;32m/usr/local/lib/python3.7/dist-packages/spacy/language.py\u001b[0m in \u001b[0;36m_ensure_doc\u001b[0;34m(self, doc_like)\u001b[0m\n\u001b[1;32m   1100\u001b[0m         \u001b[0;32mif\u001b[0m \u001b[0misinstance\u001b[0m\u001b[0;34m(\u001b[0m\u001b[0mdoc_like\u001b[0m\u001b[0;34m,\u001b[0m \u001b[0mbytes\u001b[0m\u001b[0;34m)\u001b[0m\u001b[0;34m:\u001b[0m\u001b[0;34m\u001b[0m\u001b[0;34m\u001b[0m\u001b[0m\n\u001b[1;32m   1101\u001b[0m             \u001b[0;32mreturn\u001b[0m \u001b[0mDoc\u001b[0m\u001b[0;34m(\u001b[0m\u001b[0mself\u001b[0m\u001b[0;34m.\u001b[0m\u001b[0mvocab\u001b[0m\u001b[0;34m)\u001b[0m\u001b[0;34m.\u001b[0m\u001b[0mfrom_bytes\u001b[0m\u001b[0;34m(\u001b[0m\u001b[0mdoc_like\u001b[0m\u001b[0;34m)\u001b[0m\u001b[0;34m\u001b[0m\u001b[0;34m\u001b[0m\u001b[0m\n\u001b[0;32m-> 1102\u001b[0;31m         \u001b[0;32mraise\u001b[0m \u001b[0mValueError\u001b[0m\u001b[0;34m(\u001b[0m\u001b[0mErrors\u001b[0m\u001b[0;34m.\u001b[0m\u001b[0mE1041\u001b[0m\u001b[0;34m.\u001b[0m\u001b[0mformat\u001b[0m\u001b[0;34m(\u001b[0m\u001b[0mtype\u001b[0m\u001b[0;34m=\u001b[0m\u001b[0mtype\u001b[0m\u001b[0;34m(\u001b[0m\u001b[0mdoc_like\u001b[0m\u001b[0;34m)\u001b[0m\u001b[0;34m)\u001b[0m\u001b[0;34m)\u001b[0m\u001b[0;34m\u001b[0m\u001b[0;34m\u001b[0m\u001b[0m\n\u001b[0m\u001b[1;32m   1103\u001b[0m \u001b[0;34m\u001b[0m\u001b[0m\n\u001b[1;32m   1104\u001b[0m     def _ensure_doc_with_context(\n",
            "\u001b[0;31mValueError\u001b[0m: [E1041] Expected a string, Doc, or bytes as input, but got: <class 'float'>"
          ]
        }
      ],
      "source": [
        "# Instantiate SpaCy's English module - Train Sample\n",
        "nlp = spacy.load('en_core_web_sm')\n",
        "# Remove default stop words and lemmatize each sentence\n",
        "cleanPosts_tr['clean_message'] = cleanPosts_tr.message.apply(\n",
        "    lambda text: \n",
        "        \" \".join(\n",
        "            token.lemma_.lower() for token in nlp(text)\n",
        "                if token.lemma_.lower() not in nlp.Defaults.stop_words and token.is_alpha\n",
        "        )\n",
        ")\n",
        "# Drop old sentences\n",
        "cleanPosts_tr.drop(columns='message', inplace=True)"
      ]
    },
    {
      "cell_type": "markdown",
      "metadata": {
        "id": "Wtr_2m_s40e9"
      },
      "source": [
        "Test Sample"
      ]
    },
    {
      "cell_type": "code",
      "execution_count": null,
      "metadata": {
        "id": "zSMqw9Vj40e9"
      },
      "outputs": [],
      "source": [
        "# Instantiate SpaCy's English module - Test Sample\n",
        "nlp = spacy.load('en_core_web_sm')\n",
        "# Remove default stop words and lemmatize each sentence\n",
        "cleanPosts_ts['clean_message'] = cleanPosts_ts.message.apply(\n",
        "    lambda text: \n",
        "        \" \".join(\n",
        "            token.lemma_.lower() for token in nlp(text)\n",
        "                if token.lemma_.lower() not in nlp.Defaults.stop_words and token.is_alpha\n",
        "        )\n",
        ")\n",
        "# Drop old sentences\n",
        "cleanPosts_ts.drop(columns='message', inplace=True)"
      ]
    },
    {
      "cell_type": "markdown",
      "metadata": {
        "id": "SK_D-fhC40e9"
      },
      "source": [
        "#### Drop rows with empty strings"
      ]
    },
    {
      "cell_type": "markdown",
      "metadata": {
        "id": "kU6WGcJ740e9"
      },
      "source": [
        "Train Sample"
      ]
    },
    {
      "cell_type": "code",
      "execution_count": 14,
      "metadata": {
        "colab": {
          "base_uri": "https://localhost:8080/",
          "height": 514
        },
        "id": "cOavakGG40e9",
        "outputId": "f8c75bcf-7526-46bc-e82f-25bdbc73f30c"
      },
      "outputs": [
        {
          "output_type": "error",
          "ename": "KeyError",
          "evalue": "ignored",
          "traceback": [
            "\u001b[0;31m---------------------------------------------------------------------------\u001b[0m",
            "\u001b[0;31mKeyError\u001b[0m                                  Traceback (most recent call last)",
            "\u001b[0;32m/usr/local/lib/python3.7/dist-packages/pandas/core/indexes/base.py\u001b[0m in \u001b[0;36mget_loc\u001b[0;34m(self, key, method, tolerance)\u001b[0m\n\u001b[1;32m   3360\u001b[0m             \u001b[0;32mtry\u001b[0m\u001b[0;34m:\u001b[0m\u001b[0;34m\u001b[0m\u001b[0;34m\u001b[0m\u001b[0m\n\u001b[0;32m-> 3361\u001b[0;31m                 \u001b[0;32mreturn\u001b[0m \u001b[0mself\u001b[0m\u001b[0;34m.\u001b[0m\u001b[0m_engine\u001b[0m\u001b[0;34m.\u001b[0m\u001b[0mget_loc\u001b[0m\u001b[0;34m(\u001b[0m\u001b[0mcasted_key\u001b[0m\u001b[0;34m)\u001b[0m\u001b[0;34m\u001b[0m\u001b[0;34m\u001b[0m\u001b[0m\n\u001b[0m\u001b[1;32m   3362\u001b[0m             \u001b[0;32mexcept\u001b[0m \u001b[0mKeyError\u001b[0m \u001b[0;32mas\u001b[0m \u001b[0merr\u001b[0m\u001b[0;34m:\u001b[0m\u001b[0;34m\u001b[0m\u001b[0;34m\u001b[0m\u001b[0m\n",
            "\u001b[0;32m/usr/local/lib/python3.7/dist-packages/pandas/_libs/index.pyx\u001b[0m in \u001b[0;36mpandas._libs.index.IndexEngine.get_loc\u001b[0;34m()\u001b[0m\n",
            "\u001b[0;32m/usr/local/lib/python3.7/dist-packages/pandas/_libs/index.pyx\u001b[0m in \u001b[0;36mpandas._libs.index.IndexEngine.get_loc\u001b[0;34m()\u001b[0m\n",
            "\u001b[0;32mpandas/_libs/hashtable_class_helper.pxi\u001b[0m in \u001b[0;36mpandas._libs.hashtable.PyObjectHashTable.get_item\u001b[0;34m()\u001b[0m\n",
            "\u001b[0;32mpandas/_libs/hashtable_class_helper.pxi\u001b[0m in \u001b[0;36mpandas._libs.hashtable.PyObjectHashTable.get_item\u001b[0;34m()\u001b[0m\n",
            "\u001b[0;31mKeyError\u001b[0m: 'clean_message'",
            "\nThe above exception was the direct cause of the following exception:\n",
            "\u001b[0;31mKeyError\u001b[0m                                  Traceback (most recent call last)",
            "\u001b[0;32m<ipython-input-14-fd948207cca4>\u001b[0m in \u001b[0;36m<module>\u001b[0;34m()\u001b[0m\n\u001b[1;32m      1\u001b[0m \u001b[0;31m# Drop rows where 'clean_message' is an empty string - Train Sample\u001b[0m\u001b[0;34m\u001b[0m\u001b[0;34m\u001b[0m\u001b[0;34m\u001b[0m\u001b[0m\n\u001b[1;32m      2\u001b[0m \u001b[0;31m# Get index\u001b[0m\u001b[0;34m\u001b[0m\u001b[0;34m\u001b[0m\u001b[0;34m\u001b[0m\u001b[0m\n\u001b[0;32m----> 3\u001b[0;31m \u001b[0midx\u001b[0m \u001b[0;34m=\u001b[0m \u001b[0mcleanPosts_tr\u001b[0m\u001b[0;34m[\u001b[0m\u001b[0mcleanPosts_tr\u001b[0m\u001b[0;34m[\u001b[0m\u001b[0;34m'clean_message'\u001b[0m\u001b[0;34m]\u001b[0m \u001b[0;34m==\u001b[0m \u001b[0;34m''\u001b[0m\u001b[0;34m]\u001b[0m\u001b[0;34m.\u001b[0m\u001b[0mindex\u001b[0m\u001b[0;34m\u001b[0m\u001b[0;34m\u001b[0m\u001b[0m\n\u001b[0m\u001b[1;32m      4\u001b[0m \u001b[0;31m# Drop rows based on index\u001b[0m\u001b[0;34m\u001b[0m\u001b[0;34m\u001b[0m\u001b[0;34m\u001b[0m\u001b[0m\n\u001b[1;32m      5\u001b[0m \u001b[0mcleanPosts_tr\u001b[0m\u001b[0;34m.\u001b[0m\u001b[0mdrop\u001b[0m\u001b[0;34m(\u001b[0m\u001b[0mindex\u001b[0m\u001b[0;34m=\u001b[0m\u001b[0midx\u001b[0m\u001b[0;34m,\u001b[0m \u001b[0minplace\u001b[0m\u001b[0;34m=\u001b[0m\u001b[0;32mTrue\u001b[0m\u001b[0;34m)\u001b[0m\u001b[0;34m\u001b[0m\u001b[0;34m\u001b[0m\u001b[0m\n",
            "\u001b[0;32m/usr/local/lib/python3.7/dist-packages/pandas/core/frame.py\u001b[0m in \u001b[0;36m__getitem__\u001b[0;34m(self, key)\u001b[0m\n\u001b[1;32m   3456\u001b[0m             \u001b[0;32mif\u001b[0m \u001b[0mself\u001b[0m\u001b[0;34m.\u001b[0m\u001b[0mcolumns\u001b[0m\u001b[0;34m.\u001b[0m\u001b[0mnlevels\u001b[0m \u001b[0;34m>\u001b[0m \u001b[0;36m1\u001b[0m\u001b[0;34m:\u001b[0m\u001b[0;34m\u001b[0m\u001b[0;34m\u001b[0m\u001b[0m\n\u001b[1;32m   3457\u001b[0m                 \u001b[0;32mreturn\u001b[0m \u001b[0mself\u001b[0m\u001b[0;34m.\u001b[0m\u001b[0m_getitem_multilevel\u001b[0m\u001b[0;34m(\u001b[0m\u001b[0mkey\u001b[0m\u001b[0;34m)\u001b[0m\u001b[0;34m\u001b[0m\u001b[0;34m\u001b[0m\u001b[0m\n\u001b[0;32m-> 3458\u001b[0;31m             \u001b[0mindexer\u001b[0m \u001b[0;34m=\u001b[0m \u001b[0mself\u001b[0m\u001b[0;34m.\u001b[0m\u001b[0mcolumns\u001b[0m\u001b[0;34m.\u001b[0m\u001b[0mget_loc\u001b[0m\u001b[0;34m(\u001b[0m\u001b[0mkey\u001b[0m\u001b[0;34m)\u001b[0m\u001b[0;34m\u001b[0m\u001b[0;34m\u001b[0m\u001b[0m\n\u001b[0m\u001b[1;32m   3459\u001b[0m             \u001b[0;32mif\u001b[0m \u001b[0mis_integer\u001b[0m\u001b[0;34m(\u001b[0m\u001b[0mindexer\u001b[0m\u001b[0;34m)\u001b[0m\u001b[0;34m:\u001b[0m\u001b[0;34m\u001b[0m\u001b[0;34m\u001b[0m\u001b[0m\n\u001b[1;32m   3460\u001b[0m                 \u001b[0mindexer\u001b[0m \u001b[0;34m=\u001b[0m \u001b[0;34m[\u001b[0m\u001b[0mindexer\u001b[0m\u001b[0;34m]\u001b[0m\u001b[0;34m\u001b[0m\u001b[0;34m\u001b[0m\u001b[0m\n",
            "\u001b[0;32m/usr/local/lib/python3.7/dist-packages/pandas/core/indexes/base.py\u001b[0m in \u001b[0;36mget_loc\u001b[0;34m(self, key, method, tolerance)\u001b[0m\n\u001b[1;32m   3361\u001b[0m                 \u001b[0;32mreturn\u001b[0m \u001b[0mself\u001b[0m\u001b[0;34m.\u001b[0m\u001b[0m_engine\u001b[0m\u001b[0;34m.\u001b[0m\u001b[0mget_loc\u001b[0m\u001b[0;34m(\u001b[0m\u001b[0mcasted_key\u001b[0m\u001b[0;34m)\u001b[0m\u001b[0;34m\u001b[0m\u001b[0;34m\u001b[0m\u001b[0m\n\u001b[1;32m   3362\u001b[0m             \u001b[0;32mexcept\u001b[0m \u001b[0mKeyError\u001b[0m \u001b[0;32mas\u001b[0m \u001b[0merr\u001b[0m\u001b[0;34m:\u001b[0m\u001b[0;34m\u001b[0m\u001b[0;34m\u001b[0m\u001b[0m\n\u001b[0;32m-> 3363\u001b[0;31m                 \u001b[0;32mraise\u001b[0m \u001b[0mKeyError\u001b[0m\u001b[0;34m(\u001b[0m\u001b[0mkey\u001b[0m\u001b[0;34m)\u001b[0m \u001b[0;32mfrom\u001b[0m \u001b[0merr\u001b[0m\u001b[0;34m\u001b[0m\u001b[0;34m\u001b[0m\u001b[0m\n\u001b[0m\u001b[1;32m   3364\u001b[0m \u001b[0;34m\u001b[0m\u001b[0m\n\u001b[1;32m   3365\u001b[0m         \u001b[0;32mif\u001b[0m \u001b[0mis_scalar\u001b[0m\u001b[0;34m(\u001b[0m\u001b[0mkey\u001b[0m\u001b[0;34m)\u001b[0m \u001b[0;32mand\u001b[0m \u001b[0misna\u001b[0m\u001b[0;34m(\u001b[0m\u001b[0mkey\u001b[0m\u001b[0;34m)\u001b[0m \u001b[0;32mand\u001b[0m \u001b[0;32mnot\u001b[0m \u001b[0mself\u001b[0m\u001b[0;34m.\u001b[0m\u001b[0mhasnans\u001b[0m\u001b[0;34m:\u001b[0m\u001b[0;34m\u001b[0m\u001b[0;34m\u001b[0m\u001b[0m\n",
            "\u001b[0;31mKeyError\u001b[0m: 'clean_message'"
          ]
        }
      ],
      "source": [
        "# Drop rows where 'clean_message' is an empty string - Train Sample\n",
        "# Get index\n",
        "idx = cleanPosts_tr[cleanPosts_tr['clean_message'] == ''].index\n",
        "# Drop rows based on index\n",
        "cleanPosts_tr.drop(index=idx, inplace=True)"
      ]
    },
    {
      "cell_type": "markdown",
      "metadata": {
        "id": "Mv0EaU2640e9"
      },
      "source": [
        "Test Sample"
      ]
    },
    {
      "cell_type": "code",
      "execution_count": null,
      "metadata": {
        "id": "7aiGbAp940e-"
      },
      "outputs": [],
      "source": [
        "# Drop rows where 'clean_message' is an empty string - Train Sample\n",
        "# Get index\n",
        "idx = cleanPosts_ts[cleanPosts_ts['clean_message'] == ''].index\n",
        "# Drop rows based on index\n",
        "cleanPosts_ts.drop(index=idx, inplace=True)"
      ]
    },
    {
      "cell_type": "markdown",
      "source": [
        "### Load cleanPosts_tr and cleanPosts_tr from csv file (for Google Colab only)."
      ],
      "metadata": {
        "id": "I_D3I-xZEMZP"
      }
    },
    {
      "cell_type": "code",
      "source": [
        "# Load cleanPosts_tr\n",
        "cleanPosts_tr = pd.read_csv('hate-speech-dataset-master/cleanPosts_tr.csv')\n",
        "\n",
        "# Load cleanPosts_ts\n",
        "cleanPosts_ts = pd.read_csv('hate-speech-dataset-master/cleanPosts_ts.csv')"
      ],
      "metadata": {
        "id": "bpD0Hor0ETOu"
      },
      "execution_count": 3,
      "outputs": []
    },
    {
      "cell_type": "markdown",
      "metadata": {
        "id": "zETv4x_n40e-"
      },
      "source": [
        "#### Plot class distribution"
      ]
    },
    {
      "cell_type": "code",
      "execution_count": 4,
      "metadata": {
        "colab": {
          "base_uri": "https://localhost:8080/",
          "height": 248
        },
        "id": "BZKPaHGo40e-",
        "outputId": "b09b1ea5-c84b-4c71-aa1f-608f5e8d1474"
      },
      "outputs": [
        {
          "output_type": "display_data",
          "data": {
            "text/plain": [
              "<Figure size 432x288 with 1 Axes>"
            ],
            "image/png": "[encoded data removed]"
          },
          "metadata": {}
        }
      ],
      "source": [
        "# Plot the class distribution - Train\n",
        "plot_tr = cleanPosts_tr.label.value_counts().plot(kind='pie',autopct='%1.2f%%')"
      ]
    },
    {
      "cell_type": "code",
      "execution_count": 5,
      "metadata": {
        "colab": {
          "base_uri": "https://localhost:8080/",
          "height": 248
        },
        "id": "3noDaJu040e_",
        "outputId": "04ffd2ee-f32f-44ae-c470-755471945cf6"
      },
      "outputs": [
        {
          "output_type": "display_data",
          "data": {
            "text/plain": [
              "<Figure size 432x288 with 1 Axes>"
            ],
            "image/png": "[encoded data removed]"
          },
          "metadata": {}
        }
      ],
      "source": [
        "# Plot the class distribution - Test\n",
        "plot_ts = cleanPosts_ts.label.value_counts().plot(kind='pie',autopct='%1.2f%%')"
      ]
    },
    {
      "cell_type": "markdown",
      "metadata": {
        "id": "acQutz4i40e_"
      },
      "source": [
        "#### Combine train and test samples into one pandas DataFrame"
      ]
    },
    {
      "cell_type": "code",
      "execution_count": 6,
      "metadata": {
        "id": "zBrIeX2G40e_"
      },
      "outputs": [],
      "source": [
        "# Combine the train and test samples to use for the BoW vocabulary\n",
        "cleanPosts_cb = pd.concat([cleanPosts_tr, cleanPosts_ts])"
      ]
    },
    {
      "cell_type": "markdown",
      "metadata": {
        "id": "5NxTc4qR40e_"
      },
      "source": [
        "#### Bag-of-Words Vectors"
      ]
    },
    {
      "cell_type": "code",
      "execution_count": null,
      "metadata": {
        "id": "7s0Ot9FW40e_"
      },
      "outputs": [],
      "source": [
        "# Instantiate Count Vectorizer\n",
        "vectorizer = CountVectorizer()\n",
        "# Create the vocabulary\n",
        "vectorizer.fit(cleanPosts_cb.clean_message.to_list())\n",
        "\n",
        "# Transform train sample to document-term matrix\n",
        "X_tr = vectorizer.transform(cleanPosts_tr.clean_message.to_list())\n",
        "# Create a dataframe from the document-term matrix\n",
        "X_train_b = pd.DataFrame(X_tr.toarray(),columns=vectorizer.get_feature_names_out())\n",
        "\n",
        "# Transform test sample to document-term matrix\n",
        "X_ts = vectorizer.transform(cleanPosts_ts.clean_message.to_list())\n",
        "# Create a dataframe from the document-term matrix\n",
        "X_test_b = pd.DataFrame(X_ts.toarray(),columns=vectorizer.get_feature_names_out())"
      ]
    },
    {
      "cell_type": "markdown",
      "metadata": {
        "id": "uhzT88F_40e_"
      },
      "source": [
        "#### Classify text using the SVM Model"
      ]
    },
    {
      "cell_type": "markdown",
      "metadata": {
        "id": "PMm6moAW40e_"
      },
      "source": [
        "Train the SVM Model"
      ]
    },
    {
      "cell_type": "code",
      "execution_count": null,
      "metadata": {
        "id": "gPMcsp3940e_"
      },
      "outputs": [],
      "source": [
        "# Instatiate SVC\n",
        "svm = LinearSVC()\n",
        "# Fit training data\n",
        "svm.fit(X_train_b, cleanPosts_tr.label)\n",
        "# Get prediction on test data\n",
        "pred = svm.predict(X_test_b)"
      ]
    },
    {
      "cell_type": "markdown",
      "metadata": {
        "id": "q98wERaK40e_"
      },
      "source": [
        "#### Get Accuracy, F1 Score and Confusion Matrix"
      ]
    },
    {
      "cell_type": "code",
      "execution_count": null,
      "metadata": {
        "id": "Dt2BLUHX40e_"
      },
      "outputs": [],
      "source": [
        "# Print the accuracy\n",
        "print('Accuracy: '+str(svm.score(X_test_b, cleanPosts_ts.label)))\n",
        "# Print the F1 Score\n",
        "print('F1 Score: '+str(f1_score(cleanPosts_ts.label, pred, pos_label='hate')))\n",
        "# Create confusion matrix\n",
        "cm = confusion_matrix(cleanPosts_ts.label, pred, labels=svm.classes_)\n",
        "disp = ConfusionMatrixDisplay(confusion_matrix=cm, display_labels=svm.classes_)\n",
        "disp.plot()\n",
        "plt.show()"
      ]
    },
    {
      "cell_type": "markdown",
      "metadata": {
        "id": "pStaKXyJ40e_"
      },
      "source": [
        "Using the sampled train and test data returned an accuracy of 0.74, which is lower than the accuracy I got using the whole dataset. However, the F1 Score is much higher, 0.74, and the model does a fair job in correctly classifying both hate and noHate classes. These results are very close to the results from the paper and indicate the importance of having a class balaned dataset when it comes to text classification. For the rest of this research, the balanced train and test datasets will be used."
      ]
    },
    {
      "cell_type": "markdown",
      "metadata": {
        "id": "d6lFm9P040e_"
      },
      "source": [
        "#### Classify text using CNN Model"
      ]
    },
    {
      "cell_type": "markdown",
      "metadata": {
        "id": "EXaHJ3nD40e_"
      },
      "source": [
        "The Hate Speech Dataset paper provides the link for the code used for the CNN model. The code below was downloaded from https://github.com/dennybritz/cnn-text-classification-tf and https://github.com/lubiluk/cnn-sentence. "
      ]
    },
    {
      "cell_type": "markdown",
      "metadata": {
        "id": "TowxN87H40e_"
      },
      "source": [
        "#### Prepare the dataset\n",
        "1) Tokenize the text into number sequences\n",
        "2) Pad sequences to the same length (of the longest sequence)\n",
        "3) One hot encode train and test labels"
      ]
    },
    {
      "cell_type": "code",
      "execution_count": 7,
      "metadata": {
        "id": "PDfFWfDZ40e_"
      },
      "outputs": [],
      "source": [
        "# Code from notebook provided in https://github.com/lubiluk/cnn-sentence\n",
        "# Build the vocabulary\n",
        "max_document_length = max([len(x.split(\" \")) for x in cleanPosts_cb.clean_message.to_list()])\n",
        "# Tokenizer default filtering seems to be identical to original clean_str\n",
        "tokenizer = Tokenizer()\n",
        "# Fit vocabulary using both train and test\n",
        "tokenizer.fit_on_texts(cleanPosts_cb.clean_message.to_list())\n",
        "\n",
        "# Convert train to sequences\n",
        "x_train_cnn = np.array(tokenizer.texts_to_sequences(cleanPosts_tr.clean_message.to_list()), dtype='object')\n",
        "# Pad examples to the same length\n",
        "x_train_cnn = keras.preprocessing.sequence.pad_sequences(x_train_cnn,\n",
        "                                               value=0,\n",
        "                                               padding='post',\n",
        "                                               maxlen=max_document_length)\n",
        "\n",
        "# Convert test to sequences\n",
        "x_test_cnn = np.array(tokenizer.texts_to_sequences(cleanPosts_ts.clean_message.to_list()), dtype='object')\n",
        "# Pad examples to the same length\n",
        "x_test_cnn = keras.preprocessing.sequence.pad_sequences(x_test_cnn,\n",
        "                                               value=0,\n",
        "                                               padding='post',\n",
        "                                               maxlen=max_document_length)\n",
        "\n",
        "# one hot encode train labels\n",
        "y_train_cnn = pd.get_dummies(cleanPosts_tr.label).astype('int32').values\n",
        "\n",
        "# one hot encode test labels\n",
        "y_test_cnn = pd.get_dummies(cleanPosts_ts.label).astype('int32').values"
      ]
    },
    {
      "cell_type": "markdown",
      "metadata": {
        "id": "mrCVclbl40e_"
      },
      "source": [
        "#### Set up hyperparameters"
      ]
    },
    {
      "cell_type": "code",
      "execution_count": 8,
      "metadata": {
        "id": "h7fBkSSc40e_"
      },
      "outputs": [],
      "source": [
        "# Percentage of the training data to use for validation\n",
        "dev_sample_percentage = 0.1\n",
        "# Dimensionality of character embedding (default: 128)\n",
        "embedding_dim = 128\n",
        "# Filter sizes (default: [3, 4, 5])\n",
        "filter_sizes = [3, 4, 5]\n",
        "# Number of filters per filter size (default: 128)\n",
        "num_filters = 128\n",
        "# L2 regularization lambda (default: 0.0) (unused)\n",
        "l2_reg_lambda = 0.0\n",
        "# Dropout keep probability (default: 0.5)\n",
        "dropout_keep_prob = 0.5\n",
        "# Batch Size (default: 64)\n",
        "batch_size = 64\n",
        "# Number of training epochs (default: 200)\n",
        "num_epochs = 100"
      ]
    },
    {
      "cell_type": "markdown",
      "metadata": {
        "id": "zRONx_Bv40e_"
      },
      "source": [
        "#### Build the model"
      ]
    },
    {
      "cell_type": "code",
      "execution_count": 10,
      "metadata": {
        "colab": {
          "base_uri": "https://localhost:8080/"
        },
        "id": "AaF_sxw340e_",
        "outputId": "0793a3ba-d7dd-41bf-8a22-0027989ab681"
      },
      "outputs": [
        {
          "output_type": "stream",
          "name": "stdout",
          "text": [
            "Sequence Length: 122\n",
            "Number of Classes: 2\n",
            "Vocabulary Size: 5132\n",
            "Embedding Size: 128\n",
            "Model: \"model\"\n",
            "__________________________________________________________________________________________________\n",
            " Layer (type)                   Output Shape         Param #     Connected to                     \n",
            "==================================================================================================\n",
            " input_1 (InputLayer)           [(None, 122)]        0           []                               \n",
            "                                                                                                  \n",
            " embedding (Embedding)          (None, 122, 128)     656896      ['input_1[0][0]']                \n",
            "                                                                                                  \n",
            " reshape (Reshape)              (None, 122, 128, 1)  0           ['embedding[0][0]']              \n",
            "                                                                                                  \n",
            " conv2d (Conv2D)                (None, 120, 1, 128)  49280       ['reshape[0][0]']                \n",
            "                                                                                                  \n",
            " conv2d_1 (Conv2D)              (None, 119, 1, 128)  65664       ['reshape[0][0]']                \n",
            "                                                                                                  \n",
            " conv2d_2 (Conv2D)              (None, 118, 1, 128)  82048       ['reshape[0][0]']                \n",
            "                                                                                                  \n",
            " max_pooling2d (MaxPooling2D)   (None, 1, 1, 128)    0           ['conv2d[0][0]']                 \n",
            "                                                                                                  \n",
            " max_pooling2d_1 (MaxPooling2D)  (None, 1, 1, 128)   0           ['conv2d_1[0][0]']               \n",
            "                                                                                                  \n",
            " max_pooling2d_2 (MaxPooling2D)  (None, 1, 1, 128)   0           ['conv2d_2[0][0]']               \n",
            "                                                                                                  \n",
            " concatenate (Concatenate)      (None, 3, 1, 128)    0           ['max_pooling2d[0][0]',          \n",
            "                                                                  'max_pooling2d_1[0][0]',        \n",
            "                                                                  'max_pooling2d_2[0][0]']        \n",
            "                                                                                                  \n",
            " reshape_1 (Reshape)            (None, 384)          0           ['concatenate[0][0]']            \n",
            "                                                                                                  \n",
            " dropout (Dropout)              (None, 384)          0           ['reshape_1[0][0]']              \n",
            "                                                                                                  \n",
            " dense (Dense)                  (None, 2)            770         ['dropout[0][0]']                \n",
            "                                                                                                  \n",
            "==================================================================================================\n",
            "Total params: 854,658\n",
            "Trainable params: 854,658\n",
            "Non-trainable params: 0\n",
            "__________________________________________________________________________________________________\n"
          ]
        }
      ],
      "source": [
        "# Build the model\n",
        "sequence_length = x_train_cnn.shape[1]\n",
        "num_classes = y_train_cnn.shape[1]\n",
        "vocab_size = len(tokenizer.word_index) + 1\n",
        "embedding_size = embedding_dim\n",
        "\n",
        "print(\"Sequence Length: {}\".format(sequence_length))\n",
        "print(\"Number of Classes: {}\".format(num_classes))\n",
        "print(\"Vocabulary Size: {}\".format(vocab_size))\n",
        "print(\"Embedding Size: {}\".format(embedding_size))\n",
        "\n",
        "inputs = keras.layers.Input(shape=(sequence_length,))\n",
        "x = keras.layers.Embedding(vocab_size, embedding_size, input_length=sequence_length,\n",
        "                          embeddings_initializer='random_uniform')(inputs)\n",
        "x = keras.layers.Reshape((sequence_length, embedding_size, 1))(x)\n",
        "\n",
        "filter_layers = []\n",
        "\n",
        "for s in filter_sizes:\n",
        "  f = keras.layers.Conv2D(\n",
        "      num_filters, kernel_size=(s, embedding_size), strides=(1, 1),\n",
        "      padding='valid', data_format='channels_last', activation='relu',\n",
        "      use_bias=True, kernel_initializer=keras.initializers.TruncatedNormal(stddev=0.01),\n",
        "      bias_initializer=keras.initializers.Constant(value=0.1))(x)\n",
        "  f = keras.layers.MaxPooling2D(pool_size=(sequence_length - s + 1, 1), strides=(1, 1), padding='valid', data_format='channels_last')(f)\n",
        "  filter_layers.append(f)\n",
        "\n",
        "# Combine all the pooled features\n",
        "x = keras.layers.concatenate(filter_layers, axis=1)\n",
        "x = keras.layers.Reshape((num_filters * len(filter_sizes), ))(x)\n",
        "\n",
        "# Add dropout\n",
        "x = keras.layers.Dropout(dropout_keep_prob)(x)\n",
        "\n",
        "# Final (unnormalized) scores and predictions\n",
        "predictions = keras.layers.Dense(num_classes, use_bias=True, \n",
        "                                 bias_initializer=keras.initializers.Constant(value=0.1),\n",
        "                                 kernel_initializer=keras.initializers.glorot_uniform(seed=None),\n",
        "                                 kernel_regularizer=keras.regularizers.l2(l2_reg_lambda), \n",
        "                                 bias_regularizer=keras.regularizers.l2(l2_reg_lambda),\n",
        "                                 activation='softmax')(x)\n",
        "  \n",
        "model = keras.Model(inputs=inputs, outputs=predictions)\n",
        "model.summary()"
      ]
    },
    {
      "cell_type": "markdown",
      "metadata": {
        "id": "Gn8M-SAc40fA"
      },
      "source": [
        "#### Visualise the CNN Model"
      ]
    },
    {
      "cell_type": "code",
      "execution_count": 11,
      "metadata": {
        "colab": {
          "base_uri": "https://localhost:8080/",
          "height": 1000
        },
        "id": "RO6JH67t40fA",
        "outputId": "8432733f-d669-4671-940e-b5114ac62891"
      },
      "outputs": [
        {
          "output_type": "execute_result",
          "data": {
            "text/plain": [
              "<IPython.core.display.SVG object>"
            ],
            "image/svg+xml": "<svg height=\"839pt\" viewBox=\"0.00 0.00 722.50 629.00\" width=\"963pt\" xmlns=\"http://www.w3.org/2000/svg\" xmlns:xlink=\"http://www.w3.org/1999/xlink\">\n<g class=\"graph\" id=\"graph0\" transform=\"scale(1.3333 1.3333) rotate(0) translate(4 625)\">\n<title>G</title>\n<polygon fill=\"#ffffff\" points=\"-4,4 -4,-625 718.5,-625 718.5,4 -4,4\" stroke=\"transparent\"/>\n<!-- 140337579088080 -->\n<g class=\"node\" id=\"node1\">\n<title>140337579088080</title>\n<polygon fill=\"none\" points=\"279,-584.5 279,-620.5 421,-620.5 421,-584.5 279,-584.5\" stroke=\"#000000\"/>\n<text fill=\"#000000\" font-family=\"Times,serif\" font-size=\"14.00\" text-anchor=\"middle\" x=\"310\" y=\"-598.8\">input_1</text>\n<polyline fill=\"none\" points=\"341,-584.5 341,-620.5 \" stroke=\"#000000\"/>\n<text fill=\"#000000\" font-family=\"Times,serif\" font-size=\"14.00\" text-anchor=\"middle\" x=\"381\" y=\"-598.8\">InputLayer</text>\n</g>\n<!-- 140337579088144 -->\n<g class=\"node\" id=\"node2\">\n<title>140337579088144</title>\n<polygon fill=\"none\" points=\"267.5,-511.5 267.5,-547.5 432.5,-547.5 432.5,-511.5 267.5,-511.5\" stroke=\"#000000\"/>\n<text fill=\"#000000\" font-family=\"Times,serif\" font-size=\"14.00\" text-anchor=\"middle\" x=\"308\" y=\"-525.8\">embedding</text>\n<polyline fill=\"none\" points=\"348.5,-511.5 348.5,-547.5 \" stroke=\"#000000\"/>\n<text fill=\"#000000\" font-family=\"Times,serif\" font-size=\"14.00\" text-anchor=\"middle\" x=\"390.5\" y=\"-525.8\">Embedding</text>\n</g>\n<!-- 140337579088080&#45;&gt;140337579088144 -->\n<g class=\"edge\" id=\"edge1\">\n<title>140337579088080-&gt;140337579088144</title>\n<path d=\"M350,-584.4551C350,-576.3828 350,-566.6764 350,-557.6817\" fill=\"none\" stroke=\"#000000\"/>\n<polygon fill=\"#000000\" points=\"353.5001,-557.5903 350,-547.5904 346.5001,-557.5904 353.5001,-557.5903\" stroke=\"#000000\"/>\n</g>\n<!-- 140337579510736 -->\n<g class=\"node\" id=\"node3\">\n<title>140337579510736</title>\n<polygon fill=\"none\" points=\"288,-438.5 288,-474.5 412,-474.5 412,-438.5 288,-438.5\" stroke=\"#000000\"/>\n<text fill=\"#000000\" font-family=\"Times,serif\" font-size=\"14.00\" text-anchor=\"middle\" x=\"317.5\" y=\"-452.8\">reshape</text>\n<polyline fill=\"none\" points=\"347,-438.5 347,-474.5 \" stroke=\"#000000\"/>\n<text fill=\"#000000\" font-family=\"Times,serif\" font-size=\"14.00\" text-anchor=\"middle\" x=\"379.5\" y=\"-452.8\">Reshape</text>\n</g>\n<!-- 140337579088144&#45;&gt;140337579510736 -->\n<g class=\"edge\" id=\"edge2\">\n<title>140337579088144-&gt;140337579510736</title>\n<path d=\"M350,-511.4551C350,-503.3828 350,-493.6764 350,-484.6817\" fill=\"none\" stroke=\"#000000\"/>\n<polygon fill=\"#000000\" points=\"353.5001,-484.5903 350,-474.5904 346.5001,-484.5904 353.5001,-484.5903\" stroke=\"#000000\"/>\n</g>\n<!-- 140337535773072 -->\n<g class=\"node\" id=\"node4\">\n<title>140337535773072</title>\n<polygon fill=\"none\" points=\"89.5,-365.5 89.5,-401.5 216.5,-401.5 216.5,-365.5 89.5,-365.5\" stroke=\"#000000\"/>\n<text fill=\"#000000\" font-family=\"Times,serif\" font-size=\"14.00\" text-anchor=\"middle\" x=\"119.5\" y=\"-379.8\">conv2d</text>\n<polyline fill=\"none\" points=\"149.5,-365.5 149.5,-401.5 \" stroke=\"#000000\"/>\n<text fill=\"#000000\" font-family=\"Times,serif\" font-size=\"14.00\" text-anchor=\"middle\" x=\"183\" y=\"-379.8\">Conv2D</text>\n</g>\n<!-- 140337579510736&#45;&gt;140337535773072 -->\n<g class=\"edge\" id=\"edge3\">\n<title>140337579510736-&gt;140337535773072</title>\n<path d=\"M301.3034,-438.4551C274.0735,-428.3648 239.9526,-415.721 211.3063,-405.1059\" fill=\"none\" stroke=\"#000000\"/>\n<polygon fill=\"#000000\" points=\"212.4123,-401.7832 201.8192,-401.5904 209.9799,-408.347 212.4123,-401.7832\" stroke=\"#000000\"/>\n</g>\n<!-- 140337535560272 -->\n<g class=\"node\" id=\"node5\">\n<title>140337535560272</title>\n<polygon fill=\"none\" points=\"279,-365.5 279,-401.5 421,-401.5 421,-365.5 279,-365.5\" stroke=\"#000000\"/>\n<text fill=\"#000000\" font-family=\"Times,serif\" font-size=\"14.00\" text-anchor=\"middle\" x=\"316.5\" y=\"-379.8\">conv2d_1</text>\n<polyline fill=\"none\" points=\"354,-365.5 354,-401.5 \" stroke=\"#000000\"/>\n<text fill=\"#000000\" font-family=\"Times,serif\" font-size=\"14.00\" text-anchor=\"middle\" x=\"387.5\" y=\"-379.8\">Conv2D</text>\n</g>\n<!-- 140337579510736&#45;&gt;140337535560272 -->\n<g class=\"edge\" id=\"edge4\">\n<title>140337579510736-&gt;140337535560272</title>\n<path d=\"M350,-438.4551C350,-430.3828 350,-420.6764 350,-411.6817\" fill=\"none\" stroke=\"#000000\"/>\n<polygon fill=\"#000000\" points=\"353.5001,-411.5903 350,-401.5904 346.5001,-411.5904 353.5001,-411.5903\" stroke=\"#000000\"/>\n</g>\n<!-- 140337535621264 -->\n<g class=\"node\" id=\"node6\">\n<title>140337535621264</title>\n<polygon fill=\"none\" points=\"483,-365.5 483,-401.5 625,-401.5 625,-365.5 483,-365.5\" stroke=\"#000000\"/>\n<text fill=\"#000000\" font-family=\"Times,serif\" font-size=\"14.00\" text-anchor=\"middle\" x=\"520.5\" y=\"-379.8\">conv2d_2</text>\n<polyline fill=\"none\" points=\"558,-365.5 558,-401.5 \" stroke=\"#000000\"/>\n<text fill=\"#000000\" font-family=\"Times,serif\" font-size=\"14.00\" text-anchor=\"middle\" x=\"591.5\" y=\"-379.8\">Conv2D</text>\n</g>\n<!-- 140337579510736&#45;&gt;140337535621264 -->\n<g class=\"edge\" id=\"edge5\">\n<title>140337579510736-&gt;140337535621264</title>\n<path d=\"M400.427,-438.4551C428.747,-428.3209 464.2651,-415.611 494.0085,-404.9675\" fill=\"none\" stroke=\"#000000\"/>\n<polygon fill=\"#000000\" points=\"495.21,-408.255 503.4461,-401.5904 492.8515,-401.6643 495.21,-408.255\" stroke=\"#000000\"/>\n</g>\n<!-- 140337535772688 -->\n<g class=\"node\" id=\"node7\">\n<title>140337535772688</title>\n<polygon fill=\"none\" points=\"0,-292.5 0,-328.5 216,-328.5 216,-292.5 0,-292.5\" stroke=\"#000000\"/>\n<text fill=\"#000000\" font-family=\"Times,serif\" font-size=\"14.00\" text-anchor=\"middle\" x=\"54.5\" y=\"-306.8\">max_pooling2d</text>\n<polyline fill=\"none\" points=\"109,-292.5 109,-328.5 \" stroke=\"#000000\"/>\n<text fill=\"#000000\" font-family=\"Times,serif\" font-size=\"14.00\" text-anchor=\"middle\" x=\"162.5\" y=\"-306.8\">MaxPooling2D</text>\n</g>\n<!-- 140337535773072&#45;&gt;140337535772688 -->\n<g class=\"edge\" id=\"edge6\">\n<title>140337535773072-&gt;140337535772688</title>\n<path d=\"M141.8764,-365.4551C136.6299,-356.9441 130.2636,-346.6165 124.4724,-337.2219\" fill=\"none\" stroke=\"#000000\"/>\n<polygon fill=\"#000000\" points=\"127.3785,-335.2663 119.1516,-328.5904 121.4197,-338.9396 127.3785,-335.2663\" stroke=\"#000000\"/>\n</g>\n<!-- 140337535560080 -->\n<g class=\"node\" id=\"node8\">\n<title>140337535560080</title>\n<polygon fill=\"none\" points=\"234.5,-292.5 234.5,-328.5 465.5,-328.5 465.5,-292.5 234.5,-292.5\" stroke=\"#000000\"/>\n<text fill=\"#000000\" font-family=\"Times,serif\" font-size=\"14.00\" text-anchor=\"middle\" x=\"296.5\" y=\"-306.8\">max_pooling2d_1</text>\n<polyline fill=\"none\" points=\"358.5,-292.5 358.5,-328.5 \" stroke=\"#000000\"/>\n<text fill=\"#000000\" font-family=\"Times,serif\" font-size=\"14.00\" text-anchor=\"middle\" x=\"412\" y=\"-306.8\">MaxPooling2D</text>\n</g>\n<!-- 140337535560272&#45;&gt;140337535560080 -->\n<g class=\"edge\" id=\"edge7\">\n<title>140337535560272-&gt;140337535560080</title>\n<path d=\"M350,-365.4551C350,-357.3828 350,-347.6764 350,-338.6817\" fill=\"none\" stroke=\"#000000\"/>\n<polygon fill=\"#000000\" points=\"353.5001,-338.5903 350,-328.5904 346.5001,-338.5904 353.5001,-338.5903\" stroke=\"#000000\"/>\n</g>\n<!-- 140337579096912 -->\n<g class=\"node\" id=\"node9\">\n<title>140337579096912</title>\n<polygon fill=\"none\" points=\"483.5,-292.5 483.5,-328.5 714.5,-328.5 714.5,-292.5 483.5,-292.5\" stroke=\"#000000\"/>\n<text fill=\"#000000\" font-family=\"Times,serif\" font-size=\"14.00\" text-anchor=\"middle\" x=\"545.5\" y=\"-306.8\">max_pooling2d_2</text>\n<polyline fill=\"none\" points=\"607.5,-292.5 607.5,-328.5 \" stroke=\"#000000\"/>\n<text fill=\"#000000\" font-family=\"Times,serif\" font-size=\"14.00\" text-anchor=\"middle\" x=\"661\" y=\"-306.8\">MaxPooling2D</text>\n</g>\n<!-- 140337535621264&#45;&gt;140337579096912 -->\n<g class=\"edge\" id=\"edge8\">\n<title>140337535621264-&gt;140337579096912</title>\n<path d=\"M565.1236,-365.4551C570.3701,-356.9441 576.7364,-346.6165 582.5276,-337.2219\" fill=\"none\" stroke=\"#000000\"/>\n<polygon fill=\"#000000\" points=\"585.5803,-338.9396 587.8484,-328.5904 579.6215,-335.2663 585.5803,-338.9396\" stroke=\"#000000\"/>\n</g>\n<!-- 140337579544720 -->\n<g class=\"node\" id=\"node10\">\n<title>140337579544720</title>\n<polygon fill=\"none\" points=\"265.5,-219.5 265.5,-255.5 434.5,-255.5 434.5,-219.5 265.5,-219.5\" stroke=\"#000000\"/>\n<text fill=\"#000000\" font-family=\"Times,serif\" font-size=\"14.00\" text-anchor=\"middle\" x=\"307\" y=\"-233.8\">concatenate</text>\n<polyline fill=\"none\" points=\"348.5,-219.5 348.5,-255.5 \" stroke=\"#000000\"/>\n<text fill=\"#000000\" font-family=\"Times,serif\" font-size=\"14.00\" text-anchor=\"middle\" x=\"391.5\" y=\"-233.8\">Concatenate</text>\n</g>\n<!-- 140337535772688&#45;&gt;140337579544720 -->\n<g class=\"edge\" id=\"edge9\">\n<title>140337535772688-&gt;140337579544720</title>\n<path d=\"M167.8202,-292.4551C201.8519,-282.1893 244.6456,-269.2804 280.2048,-258.5539\" fill=\"none\" stroke=\"#000000\"/>\n<polygon fill=\"#000000\" points=\"281.4661,-261.8293 290.0292,-255.5904 279.4445,-255.1276 281.4661,-261.8293\" stroke=\"#000000\"/>\n</g>\n<!-- 140337535560080&#45;&gt;140337579544720 -->\n<g class=\"edge\" id=\"edge10\">\n<title>140337535560080-&gt;140337579544720</title>\n<path d=\"M350,-292.4551C350,-284.3828 350,-274.6764 350,-265.6817\" fill=\"none\" stroke=\"#000000\"/>\n<polygon fill=\"#000000\" points=\"353.5001,-265.5903 350,-255.5904 346.5001,-265.5904 353.5001,-265.5903\" stroke=\"#000000\"/>\n</g>\n<!-- 140337579096912&#45;&gt;140337579544720 -->\n<g class=\"edge\" id=\"edge11\">\n<title>140337579096912-&gt;140337579544720</title>\n<path d=\"M537.4494,-292.4551C502.2837,-282.1454 458.0253,-269.1701 421.3454,-258.4165\" fill=\"none\" stroke=\"#000000\"/>\n<polygon fill=\"#000000\" points=\"422.2863,-255.0451 411.7055,-255.5904 420.3169,-261.7624 422.2863,-255.0451\" stroke=\"#000000\"/>\n</g>\n<!-- 140337578819472 -->\n<g class=\"node\" id=\"node11\">\n<title>140337578819472</title>\n<polygon fill=\"none\" points=\"280.5,-146.5 280.5,-182.5 419.5,-182.5 419.5,-146.5 280.5,-146.5\" stroke=\"#000000\"/>\n<text fill=\"#000000\" font-family=\"Times,serif\" font-size=\"14.00\" text-anchor=\"middle\" x=\"317.5\" y=\"-160.8\">reshape_1</text>\n<polyline fill=\"none\" points=\"354.5,-146.5 354.5,-182.5 \" stroke=\"#000000\"/>\n<text fill=\"#000000\" font-family=\"Times,serif\" font-size=\"14.00\" text-anchor=\"middle\" x=\"387\" y=\"-160.8\">Reshape</text>\n</g>\n<!-- 140337579544720&#45;&gt;140337578819472 -->\n<g class=\"edge\" id=\"edge12\">\n<title>140337579544720-&gt;140337578819472</title>\n<path d=\"M350,-219.4551C350,-211.3828 350,-201.6764 350,-192.6817\" fill=\"none\" stroke=\"#000000\"/>\n<polygon fill=\"#000000\" points=\"353.5001,-192.5903 350,-182.5904 346.5001,-192.5904 353.5001,-192.5903\" stroke=\"#000000\"/>\n</g>\n<!-- 140337612108368 -->\n<g class=\"node\" id=\"node12\">\n<title>140337612108368</title>\n<polygon fill=\"none\" points=\"286.5,-73.5 286.5,-109.5 413.5,-109.5 413.5,-73.5 286.5,-73.5\" stroke=\"#000000\"/>\n<text fill=\"#000000\" font-family=\"Times,serif\" font-size=\"14.00\" text-anchor=\"middle\" x=\"317.5\" y=\"-87.8\">dropout</text>\n<polyline fill=\"none\" points=\"348.5,-73.5 348.5,-109.5 \" stroke=\"#000000\"/>\n<text fill=\"#000000\" font-family=\"Times,serif\" font-size=\"14.00\" text-anchor=\"middle\" x=\"381\" y=\"-87.8\">Dropout</text>\n</g>\n<!-- 140337578819472&#45;&gt;140337612108368 -->\n<g class=\"edge\" id=\"edge13\">\n<title>140337578819472-&gt;140337612108368</title>\n<path d=\"M350,-146.4551C350,-138.3828 350,-128.6764 350,-119.6817\" fill=\"none\" stroke=\"#000000\"/>\n<polygon fill=\"#000000\" points=\"353.5001,-119.5903 350,-109.5904 346.5001,-119.5904 353.5001,-119.5903\" stroke=\"#000000\"/>\n</g>\n<!-- 140337535129552 -->\n<g class=\"node\" id=\"node13\">\n<title>140337535129552</title>\n<polygon fill=\"none\" points=\"299.5,-.5 299.5,-36.5 400.5,-36.5 400.5,-.5 299.5,-.5\" stroke=\"#000000\"/>\n<text fill=\"#000000\" font-family=\"Times,serif\" font-size=\"14.00\" text-anchor=\"middle\" x=\"324\" y=\"-14.8\">dense</text>\n<polyline fill=\"none\" points=\"348.5,-.5 348.5,-36.5 \" stroke=\"#000000\"/>\n<text fill=\"#000000\" font-family=\"Times,serif\" font-size=\"14.00\" text-anchor=\"middle\" x=\"374.5\" y=\"-14.8\">Dense</text>\n</g>\n<!-- 140337612108368&#45;&gt;140337535129552 -->\n<g class=\"edge\" id=\"edge14\">\n<title>140337612108368-&gt;140337535129552</title>\n<path d=\"M350,-73.4551C350,-65.3828 350,-55.6764 350,-46.6817\" fill=\"none\" stroke=\"#000000\"/>\n<polygon fill=\"#000000\" points=\"353.5001,-46.5903 350,-36.5904 346.5001,-46.5904 353.5001,-46.5903\" stroke=\"#000000\"/>\n</g>\n</g>\n</svg>"
          },
          "metadata": {},
          "execution_count": 11
        }
      ],
      "source": [
        "from IPython.display import SVG\n",
        "from keras.utils.vis_utils import model_to_dot\n",
        "\n",
        "SVG(model_to_dot(model).create(prog='dot', format='svg'))"
      ]
    },
    {
      "cell_type": "markdown",
      "metadata": {
        "id": "AsMqQvgN40fA"
      },
      "source": [
        "#### Prepare the training process"
      ]
    },
    {
      "cell_type": "code",
      "execution_count": 12,
      "metadata": {
        "id": "eZ8qtiwP40fA"
      },
      "outputs": [],
      "source": [
        "# Specify loss function and optimizer\n",
        "model.compile(optimizer='adam',\n",
        "              loss='categorical_crossentropy',\n",
        "              metrics=['acc'])"
      ]
    },
    {
      "cell_type": "markdown",
      "metadata": {
        "id": "tH4B6vGs40fA"
      },
      "source": [
        "#### Train the CNN Model"
      ]
    },
    {
      "cell_type": "code",
      "execution_count": 13,
      "metadata": {
        "colab": {
          "base_uri": "https://localhost:8080/"
        },
        "id": "_aeWqVZR40fA",
        "outputId": "4fa3dfde-201c-48de-b4b3-cd2b754442ba"
      },
      "outputs": [
        {
          "output_type": "stream",
          "name": "stdout",
          "text": [
            "Epoch 1/50\n",
            "54/54 [==============================] - 19s 308ms/step - loss: 0.6387 - acc: 0.6143 - val_loss: 0.5954 - val_acc: 0.6825\n",
            "Epoch 2/50\n",
            "54/54 [==============================] - 11s 199ms/step - loss: 0.4042 - acc: 0.8460 - val_loss: 0.5833 - val_acc: 0.7302\n",
            "Epoch 3/50\n",
            "54/54 [==============================] - 9s 160ms/step - loss: 0.1811 - acc: 0.9383 - val_loss: 0.6363 - val_acc: 0.7460\n",
            "Epoch 4/50\n",
            "54/54 [==============================] - 9s 161ms/step - loss: 0.0733 - acc: 0.9782 - val_loss: 0.7797 - val_acc: 0.6825\n",
            "Epoch 5/50\n",
            "54/54 [==============================] - 9s 160ms/step - loss: 0.0338 - acc: 0.9924 - val_loss: 0.9583 - val_acc: 0.6667\n",
            "Epoch 6/50\n",
            "54/54 [==============================] - 9s 159ms/step - loss: 0.0176 - acc: 0.9976 - val_loss: 1.0463 - val_acc: 0.6614\n",
            "Epoch 7/50\n",
            "54/54 [==============================] - 9s 161ms/step - loss: 0.0099 - acc: 0.9988 - val_loss: 1.1312 - val_acc: 0.6667\n",
            "Epoch 8/50\n",
            "54/54 [==============================] - 9s 160ms/step - loss: 0.0078 - acc: 0.9988 - val_loss: 1.2081 - val_acc: 0.6720\n",
            "Epoch 9/50\n",
            "54/54 [==============================] - 9s 159ms/step - loss: 0.0061 - acc: 0.9988 - val_loss: 1.2534 - val_acc: 0.6667\n",
            "Epoch 10/50\n",
            "54/54 [==============================] - 9s 159ms/step - loss: 0.0044 - acc: 0.9988 - val_loss: 1.3140 - val_acc: 0.6614\n",
            "Epoch 11/50\n",
            "54/54 [==============================] - 9s 160ms/step - loss: 0.0036 - acc: 0.9994 - val_loss: 1.3647 - val_acc: 0.6561\n",
            "Epoch 12/50\n",
            "54/54 [==============================] - 10s 190ms/step - loss: 0.0027 - acc: 0.9994 - val_loss: 1.3886 - val_acc: 0.6614\n",
            "Epoch 13/50\n",
            "54/54 [==============================] - 9s 160ms/step - loss: 0.0026 - acc: 0.9994 - val_loss: 1.4209 - val_acc: 0.6614\n",
            "Epoch 14/50\n",
            "54/54 [==============================] - 9s 170ms/step - loss: 0.0021 - acc: 0.9994 - val_loss: 1.4598 - val_acc: 0.6614\n",
            "Epoch 15/50\n",
            "54/54 [==============================] - 10s 186ms/step - loss: 0.0019 - acc: 0.9994 - val_loss: 1.4864 - val_acc: 0.6614\n",
            "Epoch 16/50\n",
            "54/54 [==============================] - 9s 159ms/step - loss: 0.0017 - acc: 0.9994 - val_loss: 1.5201 - val_acc: 0.6614\n",
            "Epoch 17/50\n",
            "54/54 [==============================] - 9s 162ms/step - loss: 0.0015 - acc: 0.9994 - val_loss: 1.5533 - val_acc: 0.6614\n",
            "Epoch 18/50\n",
            "54/54 [==============================] - 9s 161ms/step - loss: 0.0015 - acc: 0.9994 - val_loss: 1.5740 - val_acc: 0.6614\n",
            "Epoch 19/50\n",
            "54/54 [==============================] - 9s 160ms/step - loss: 0.0012 - acc: 0.9994 - val_loss: 1.5963 - val_acc: 0.6614\n",
            "Epoch 20/50\n",
            "54/54 [==============================] - 9s 161ms/step - loss: 0.0011 - acc: 0.9994 - val_loss: 1.6170 - val_acc: 0.6614\n",
            "Epoch 21/50\n",
            "54/54 [==============================] - 9s 161ms/step - loss: 0.0011 - acc: 0.9994 - val_loss: 1.6394 - val_acc: 0.6561\n",
            "Epoch 22/50\n",
            "54/54 [==============================] - 9s 161ms/step - loss: 9.3063e-04 - acc: 0.9994 - val_loss: 1.6593 - val_acc: 0.6561\n",
            "Epoch 23/50\n",
            "54/54 [==============================] - 9s 161ms/step - loss: 0.0010 - acc: 0.9994 - val_loss: 1.6835 - val_acc: 0.6561\n",
            "Epoch 24/50\n",
            "54/54 [==============================] - 9s 162ms/step - loss: 9.7597e-04 - acc: 0.9994 - val_loss: 1.7024 - val_acc: 0.6561\n",
            "Epoch 25/50\n",
            "54/54 [==============================] - 9s 162ms/step - loss: 8.8595e-04 - acc: 0.9994 - val_loss: 1.7176 - val_acc: 0.6561\n",
            "Epoch 26/50\n",
            "54/54 [==============================] - 9s 161ms/step - loss: 6.5768e-04 - acc: 1.0000 - val_loss: 1.7376 - val_acc: 0.6561\n",
            "Epoch 27/50\n",
            "54/54 [==============================] - 11s 201ms/step - loss: 5.7760e-04 - acc: 1.0000 - val_loss: 1.7535 - val_acc: 0.6561\n",
            "Epoch 28/50\n",
            "54/54 [==============================] - 9s 163ms/step - loss: 6.8570e-04 - acc: 0.9994 - val_loss: 1.7687 - val_acc: 0.6614\n",
            "Epoch 29/50\n",
            "54/54 [==============================] - 9s 162ms/step - loss: 5.2688e-04 - acc: 1.0000 - val_loss: 1.7769 - val_acc: 0.6402\n",
            "Epoch 30/50\n",
            "54/54 [==============================] - 9s 161ms/step - loss: 0.0022 - acc: 0.9994 - val_loss: 1.8815 - val_acc: 0.6614\n",
            "Epoch 31/50\n",
            "54/54 [==============================] - 9s 164ms/step - loss: 0.0056 - acc: 0.9971 - val_loss: 1.8085 - val_acc: 0.6349\n",
            "Epoch 32/50\n",
            "54/54 [==============================] - 9s 162ms/step - loss: 0.0017 - acc: 0.9994 - val_loss: 1.8843 - val_acc: 0.6508\n",
            "Epoch 33/50\n",
            "54/54 [==============================] - 9s 162ms/step - loss: 6.9760e-04 - acc: 1.0000 - val_loss: 1.8432 - val_acc: 0.6508\n",
            "Epoch 34/50\n",
            "54/54 [==============================] - 9s 163ms/step - loss: 4.6308e-04 - acc: 1.0000 - val_loss: 1.8768 - val_acc: 0.6402\n",
            "Epoch 35/50\n",
            "54/54 [==============================] - 9s 161ms/step - loss: 4.3247e-04 - acc: 1.0000 - val_loss: 1.8923 - val_acc: 0.6402\n",
            "Epoch 36/50\n",
            "54/54 [==============================] - 9s 161ms/step - loss: 2.6042e-04 - acc: 1.0000 - val_loss: 1.9109 - val_acc: 0.6455\n",
            "Epoch 37/50\n",
            "54/54 [==============================] - 9s 161ms/step - loss: 2.2071e-04 - acc: 1.0000 - val_loss: 1.9204 - val_acc: 0.6349\n",
            "Epoch 38/50\n",
            "54/54 [==============================] - 9s 163ms/step - loss: 1.6271e-04 - acc: 1.0000 - val_loss: 1.9324 - val_acc: 0.6402\n",
            "Epoch 39/50\n",
            "54/54 [==============================] - 9s 162ms/step - loss: 1.7688e-04 - acc: 1.0000 - val_loss: 1.9448 - val_acc: 0.6455\n",
            "Epoch 40/50\n",
            "54/54 [==============================] - 11s 202ms/step - loss: 1.6427e-04 - acc: 1.0000 - val_loss: 1.9677 - val_acc: 0.6402\n",
            "Epoch 41/50\n",
            "54/54 [==============================] - 9s 165ms/step - loss: 1.2543e-04 - acc: 1.0000 - val_loss: 1.9838 - val_acc: 0.6455\n",
            "Epoch 42/50\n",
            "54/54 [==============================] - 9s 164ms/step - loss: 2.4525e-04 - acc: 1.0000 - val_loss: 1.9984 - val_acc: 0.6402\n",
            "Epoch 43/50\n",
            "54/54 [==============================] - 9s 161ms/step - loss: 2.8360e-04 - acc: 1.0000 - val_loss: 2.0151 - val_acc: 0.6455\n",
            "Epoch 44/50\n",
            "54/54 [==============================] - 9s 161ms/step - loss: 1.2074e-04 - acc: 1.0000 - val_loss: 2.0175 - val_acc: 0.6402\n",
            "Epoch 45/50\n",
            "54/54 [==============================] - 9s 162ms/step - loss: 1.0196e-04 - acc: 1.0000 - val_loss: 2.0281 - val_acc: 0.6455\n",
            "Epoch 46/50\n",
            "54/54 [==============================] - 9s 161ms/step - loss: 1.6796e-04 - acc: 1.0000 - val_loss: 2.0433 - val_acc: 0.6243\n",
            "Epoch 47/50\n",
            "54/54 [==============================] - 9s 162ms/step - loss: 8.7770e-05 - acc: 1.0000 - val_loss: 2.0590 - val_acc: 0.6402\n",
            "Epoch 48/50\n",
            "54/54 [==============================] - 9s 162ms/step - loss: 8.0885e-05 - acc: 1.0000 - val_loss: 2.0735 - val_acc: 0.6402\n",
            "Epoch 49/50\n",
            "54/54 [==============================] - 9s 163ms/step - loss: 6.9193e-05 - acc: 1.0000 - val_loss: 2.0822 - val_acc: 0.6402\n",
            "Epoch 50/50\n",
            "54/54 [==============================] - 9s 162ms/step - loss: 1.4351e-04 - acc: 1.0000 - val_loss: 2.0947 - val_acc: 0.6402\n"
          ]
        }
      ],
      "source": [
        "history = model.fit(x_train_cnn,\n",
        "                    y_train_cnn,\n",
        "                    epochs=num_epochs,\n",
        "                    batch_size=batch_size,\n",
        "                    validation_split=dev_sample_percentage,\n",
        "                    verbose=1)"
      ]
    },
    {
      "cell_type": "markdown",
      "source": [
        "#### Plot the training history"
      ],
      "metadata": {
        "id": "FdLfL_X8HJ0U"
      }
    },
    {
      "cell_type": "markdown",
      "source": [
        "Training and validation loss."
      ],
      "metadata": {
        "id": "cBw6RzYtHbNW"
      }
    },
    {
      "cell_type": "code",
      "execution_count": 14,
      "metadata": {
        "colab": {
          "base_uri": "https://localhost:8080/",
          "height": 295
        },
        "id": "WLVv-JHY40fA",
        "outputId": "60de2ef4-4d0b-433f-8b5c-d33a7a45c1f2"
      },
      "outputs": [
        {
          "output_type": "display_data",
          "data": {
            "text/plain": [
              "<Figure size 432x288 with 1 Axes>"
            ],
            "image/png": "[encoded data removed]"
          },
          "metadata": {
            "needs_background": "light"
          }
        }
      ],
      "source": [
        "history_dict = history.history\n",
        "\n",
        "acc = history_dict['acc']\n",
        "val_acc = history_dict['val_acc']\n",
        "loss = history_dict['loss']\n",
        "val_loss = history_dict['val_loss']\n",
        "\n",
        "epochs = range(1, len(acc) + 1)\n",
        "\n",
        "plt.plot(epochs, loss, 'bo', label='Training loss')\n",
        "plt.plot(epochs, val_loss, 'b', label='Validation loss')\n",
        "plt.title('Training and validation loss')\n",
        "plt.xlabel('Epochs')\n",
        "plt.ylabel('Loss')\n",
        "plt.legend()\n",
        "\n",
        "plt.show()"
      ]
    },
    {
      "cell_type": "markdown",
      "source": [
        "Training and validation accuracy."
      ],
      "metadata": {
        "id": "ahxUgGk3HgFD"
      }
    },
    {
      "cell_type": "code",
      "source": [
        "plt.clf()   # clear figure\n",
        "\n",
        "plt.plot(epochs, acc, 'bo', label='Training acc')\n",
        "plt.plot(epochs, val_acc, 'b', label='Validation acc')\n",
        "plt.title('Training and validation accuracy')\n",
        "plt.xlabel('Epochs')\n",
        "plt.ylabel('Accuracy')\n",
        "plt.legend()\n",
        "\n",
        "plt.show()"
      ],
      "metadata": {
        "colab": {
          "base_uri": "https://localhost:8080/",
          "height": 295
        },
        "id": "mQX9DFEaHhc4",
        "outputId": "5d475892-d1b6-47a8-82f3-d93904a648b7"
      },
      "execution_count": 15,
      "outputs": [
        {
          "output_type": "display_data",
          "data": {
            "text/plain": [
              "<Figure size 432x288 with 1 Axes>"
            ],
            "image/png": "[encoded data removed]"
          },
          "metadata": {
            "needs_background": "light"
          }
        }
      ]
    },
    {
      "cell_type": "markdown",
      "source": [
        "#### Test the CNN model\n",
        "Test the model on the sampled test data. Print the Accuracy, F1 Score and Confusion Matrix"
      ],
      "metadata": {
        "id": "tYCD8WHqHxPw"
      }
    },
    {
      "cell_type": "code",
      "source": [
        "# Evaluate the model on the test data using `evaluate`\n",
        "print(\"Evaluate on test data\")\n",
        "results = model.evaluate(x_test_cnn, y_test_cnn)\n",
        "print(\"test loss, test acc:\", results)\n",
        "pred = model.predict(x_test_cnn)"
      ],
      "metadata": {
        "colab": {
          "base_uri": "https://localhost:8080/"
        },
        "id": "bjqV-MulHifd",
        "outputId": "b40e815a-a17b-40f9-828e-ee2f68fd8420"
      },
      "execution_count": 25,
      "outputs": [
        {
          "output_type": "stream",
          "name": "stdout",
          "text": [
            "Evaluate on test data\n",
            "15/15 [==============================] - 1s 46ms/step - loss: 1.7622 - acc: 0.7246\n",
            "test loss, test acc: [1.7621996402740479, 0.7245762944221497]\n"
          ]
        }
      ]
    },
    {
      "cell_type": "code",
      "source": [
        "# Convert pred to boolean\n",
        "y_pred_bool = np.argmax(pred, axis=1)\n",
        "\n",
        "# Convert categorical label to numeric\n",
        "y_test_cnn = cleanPosts_ts.label.replace(['hate','noHate'],[0,1])\n",
        "\n",
        "# Get F1 Score and Confusion Matrix\n",
        "# Print the F1 Score\n",
        "print('F1 Score: '+str(f1_score(y_test_cnn, y_pred_bool, pos_label=0)))\n",
        "# Create confusion matrix\n",
        "cm = confusion_matrix(y_test_cnn, y_pred_bool)\n",
        "disp = ConfusionMatrixDisplay(confusion_matrix=cm)\n",
        "disp.plot()\n",
        "plt.show()"
      ],
      "metadata": {
        "colab": {
          "base_uri": "https://localhost:8080/",
          "height": 297
        },
        "id": "mrU1zAEmKkpp",
        "outputId": "be1a3165-467d-4746-9c4f-971715fb75a1"
      },
      "execution_count": 54,
      "outputs": [
        {
          "output_type": "stream",
          "name": "stdout",
          "text": [
            "F1 Score: 0.7325102880658436\n"
          ]
        },
        {
          "output_type": "display_data",
          "data": {
            "text/plain": [
              "<Figure size 432x288 with 2 Axes>"
            ],
            "image/png": "[encoded data removed]"
          },
          "metadata": {
            "needs_background": "light"
          }
        }
      ]
    },
    {
      "cell_type": "code",
      "source": [
        ""
      ],
      "metadata": {
        "id": "YixBzZ8CLuAu"
      },
      "execution_count": null,
      "outputs": []
    }
  ],
  "metadata": {
    "kernelspec": {
      "display_name": "Python 3.9.12 ('base')",
      "language": "python",
      "name": "python3"
    },
    "language_info": {
      "codemirror_mode": {
        "name": "ipython",
        "version": 3
      },
      "file_extension": ".py",
      "mimetype": "text/x-python",
      "name": "python",
      "nbconvert_exporter": "python",
      "pygments_lexer": "ipython3",
      "version": "3.9.13"
    },
    "orig_nbformat": 4,
    "vscode": {
      "interpreter": {
        "hash": "40d3a090f54c6569ab1632332b64b2c03c39dcf918b08424e98f38b5ae0af88f"
      }
    },
    "colab": {
      "name": "Thesis_Project.ipynb",
      "provenance": [],
      "collapsed_sections": [
        "tiN4xEl040e3",
        "KxNLBnYn40e3",
        "e5bMcBUB40e3",
        "eBq0yYEu40e6",
        "SC8hmBF_40e6",
        "kin0Qi_z40e8",
        "wkB9rICD40e8",
        "dnHJ-O7p40e8",
        "mvT0npQu40e8",
        "Jc7q_iSk40e8",
        "PM_GrSAg40e8",
        "cIfwWY6X40e8",
        "yYEKfeqo40e9",
        "yRdexdco40e9",
        "SK_D-fhC40e9",
        "zETv4x_n40e-",
        "5NxTc4qR40e_",
        "uhzT88F_40e_"
      ]
    }
  },
  "nbformat": 4,
  "nbformat_minor": 0
}