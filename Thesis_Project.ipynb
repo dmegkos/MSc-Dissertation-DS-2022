{
 "cells": [
  {
   "cell_type": "markdown",
   "metadata": {},
   "source": [
    "#### Import the libraries"
   ]
  },
  {
   "cell_type": "code",
   "execution_count": 1,
   "metadata": {},
   "outputs": [],
   "source": [
    "# For data handling and EDA\n",
    "import pandas as pd\n",
    "# For Visualisation\n",
    "import matplotlib.pyplot as plt\n",
    "from wordcloud import WordCloud\n",
    "# For NLP and ML\n",
    "import torch\n",
    "import sklearn\n",
    "import nltk\n",
    "import spacy"
   ]
  },
  {
   "cell_type": "markdown",
   "metadata": {},
   "source": [
    "#### Load the dataset to Pandas"
   ]
  },
  {
   "cell_type": "code",
   "execution_count": 2,
   "metadata": {},
   "outputs": [],
   "source": [
    "# Load the annotations metadata csv to get label info\n",
    "annot = pd.read_csv(\"hate-speech-dataset-master/annotations_metadata.csv\")\n",
    "# Keep only file id and label\n",
    "annot.drop(columns=['user_id','subforum_id','num_contexts'],inplace=True)\n",
    "# Add new empty column to insert the message\n",
    "annot['message']=''\n",
    "# Loop through all lines\n",
    "for i in range(len(annot['file_id'])):\n",
    "    # Get current filename\n",
    "    filename = annot['file_id'][i]\n",
    "    # Open the file and read the contents\n",
    "    with open('hate-speech-dataset-master/all_files/' +filename +'.txt') as f:\n",
    "        contents= f.read()\n",
    "    f.close()\n",
    "    # Add contents to the message column\n",
    "    annot['message'][i]=contents\n",
    "# Drop file id\n",
    "annot.drop(columns=['file_id'],inplace=True)"
   ]
  },
  {
   "cell_type": "markdown",
   "metadata": {},
   "source": [
    "#### EDA and Pre-Processing"
   ]
  },
  {
   "cell_type": "code",
   "execution_count": 3,
   "metadata": {},
   "outputs": [
    {
     "name": "stdout",
     "output_type": "stream",
     "text": [
      "<class 'pandas.core.frame.DataFrame'>\n",
      "RangeIndex: 10944 entries, 0 to 10943\n",
      "Data columns (total 2 columns):\n",
      " #   Column   Non-Null Count  Dtype \n",
      "---  ------   --------------  ----- \n",
      " 0   label    10944 non-null  object\n",
      " 1   message  10944 non-null  object\n",
      "dtypes: object(2)\n",
      "memory usage: 171.1+ KB\n"
     ]
    }
   ],
   "source": [
    "# DataFrame information\n",
    "annot.info()"
   ]
  },
  {
   "cell_type": "code",
   "execution_count": 4,
   "metadata": {},
   "outputs": [
    {
     "data": {
      "text/plain": [
       "noHate      9507\n",
       "hate        1196\n",
       "relation     168\n",
       "idk/skip      73\n",
       "Name: label, dtype: int64"
      ]
     },
     "execution_count": 4,
     "metadata": {},
     "output_type": "execute_result"
    }
   ],
   "source": [
    "# Check the classes and their value counts\n",
    "annot['label'].value_counts()"
   ]
  },
  {
   "cell_type": "markdown",
   "metadata": {},
   "source": [
    "Based on the original paper, there are a total of 10944 sentences, 9507 of them are classified as no hate speech, 1196 are classified as hate speech, 168 are related to hate speech but depends on content and 73 are non English sentences, classified as idk/skip. For the purpose of this research, relation and idk/skip classes will be dropped completely in order to make the problem a binary classification."
   ]
  },
  {
   "cell_type": "code",
   "execution_count": 5,
   "metadata": {},
   "outputs": [],
   "source": [
    "# Keep sentences classified only as noHate and hate\n",
    "cleanPosts = annot[(annot['label'] != 'relation') & (annot['label'] != 'idk/skip')]\n",
    "# Reset index\n",
    "cleanPosts=cleanPosts.reset_index(drop=True)"
   ]
  },
  {
   "cell_type": "code",
   "execution_count": 6,
   "metadata": {},
   "outputs": [
    {
     "data": {
      "text/html": [
       "<div>\n",
       "<style scoped>\n",
       "    .dataframe tbody tr th:only-of-type {\n",
       "        vertical-align: middle;\n",
       "    }\n",
       "\n",
       "    .dataframe tbody tr th {\n",
       "        vertical-align: top;\n",
       "    }\n",
       "\n",
       "    .dataframe thead th {\n",
       "        text-align: right;\n",
       "    }\n",
       "</style>\n",
       "<table border=\"1\" class=\"dataframe\">\n",
       "  <thead>\n",
       "    <tr style=\"text-align: right;\">\n",
       "      <th></th>\n",
       "      <th>label</th>\n",
       "      <th>message</th>\n",
       "    </tr>\n",
       "  </thead>\n",
       "  <tbody>\n",
       "    <tr>\n",
       "      <th>0</th>\n",
       "      <td>noHate</td>\n",
       "      <td>As of March 13th , 2014 , the booklet had been...</td>\n",
       "    </tr>\n",
       "    <tr>\n",
       "      <th>1</th>\n",
       "      <td>noHate</td>\n",
       "      <td>In order to help increase the booklets downloa...</td>\n",
       "    </tr>\n",
       "    <tr>\n",
       "      <th>2</th>\n",
       "      <td>noHate</td>\n",
       "      <td>( Simply copy and paste the following text int...</td>\n",
       "    </tr>\n",
       "    <tr>\n",
       "      <th>3</th>\n",
       "      <td>hate</td>\n",
       "      <td>Click below for a FREE download of a colorfull...</td>\n",
       "    </tr>\n",
       "    <tr>\n",
       "      <th>4</th>\n",
       "      <td>noHate</td>\n",
       "      <td>Click on the `` DOWNLOAD ( 7.42 MB ) '' green ...</td>\n",
       "    </tr>\n",
       "    <tr>\n",
       "      <th>...</th>\n",
       "      <td>...</td>\n",
       "      <td>...</td>\n",
       "    </tr>\n",
       "    <tr>\n",
       "      <th>10698</th>\n",
       "      <td>noHate</td>\n",
       "      <td>Billy - `` That guy would n't leave me alone ,...</td>\n",
       "    </tr>\n",
       "    <tr>\n",
       "      <th>10699</th>\n",
       "      <td>noHate</td>\n",
       "      <td>Wish we at least had a Marine Le Pen to vote f...</td>\n",
       "    </tr>\n",
       "    <tr>\n",
       "      <th>10700</th>\n",
       "      <td>noHate</td>\n",
       "      <td>Its like the choices are white genocide candid...</td>\n",
       "    </tr>\n",
       "    <tr>\n",
       "      <th>10701</th>\n",
       "      <td>hate</td>\n",
       "      <td>Why White people used to say that sex was a si...</td>\n",
       "    </tr>\n",
       "    <tr>\n",
       "      <th>10702</th>\n",
       "      <td>noHate</td>\n",
       "      <td>Now I get it !</td>\n",
       "    </tr>\n",
       "  </tbody>\n",
       "</table>\n",
       "<p>10703 rows × 2 columns</p>\n",
       "</div>"
      ],
      "text/plain": [
       "        label                                            message\n",
       "0      noHate  As of March 13th , 2014 , the booklet had been...\n",
       "1      noHate  In order to help increase the booklets downloa...\n",
       "2      noHate  ( Simply copy and paste the following text int...\n",
       "3        hate  Click below for a FREE download of a colorfull...\n",
       "4      noHate  Click on the `` DOWNLOAD ( 7.42 MB ) '' green ...\n",
       "...       ...                                                ...\n",
       "10698  noHate  Billy - `` That guy would n't leave me alone ,...\n",
       "10699  noHate  Wish we at least had a Marine Le Pen to vote f...\n",
       "10700  noHate  Its like the choices are white genocide candid...\n",
       "10701    hate  Why White people used to say that sex was a si...\n",
       "10702  noHate                                     Now I get it !\n",
       "\n",
       "[10703 rows x 2 columns]"
      ]
     },
     "execution_count": 6,
     "metadata": {},
     "output_type": "execute_result"
    }
   ],
   "source": [
    "cleanPosts"
   ]
  },
  {
   "cell_type": "code",
   "execution_count": null,
   "metadata": {},
   "outputs": [],
   "source": []
  },
  {
   "cell_type": "code",
   "execution_count": null,
   "metadata": {},
   "outputs": [],
   "source": []
  }
 ],
 "metadata": {
  "kernelspec": {
   "display_name": "Python 3.9.12 ('base')",
   "language": "python",
   "name": "python3"
  },
  "language_info": {
   "codemirror_mode": {
    "name": "ipython",
    "version": 3
   },
   "file_extension": ".py",
   "mimetype": "text/x-python",
   "name": "python",
   "nbconvert_exporter": "python",
   "pygments_lexer": "ipython3",
   "version": "3.9.13"
  },
  "orig_nbformat": 4,
  "vscode": {
   "interpreter": {
    "hash": "40d3a090f54c6569ab1632332b64b2c03c39dcf918b08424e98f38b5ae0af88f"
   }
  }
 },
 "nbformat": 4,
 "nbformat_minor": 2
}
